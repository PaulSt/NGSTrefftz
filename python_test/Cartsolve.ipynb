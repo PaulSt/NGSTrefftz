{
 "cells": [
  {
   "cell_type": "code",
   "execution_count": 20,
   "metadata": {
    "collapsed": true
   },
   "outputs": [],
   "source": [
    "N = 9\n",
    "c = 4\n",
    "order = 15\n",
    "k = 5"
   ]
  },
  {
   "cell_type": "code",
   "execution_count": 21,
   "metadata": {
    "collapsed": true
   },
   "outputs": [],
   "source": [
    "import netgen.meshing as ngm\n",
    "from netgen.geom2d import unit_square\n",
    "from ngsolve import *\n",
    "\n",
    "ngmesh = ngm.Mesh()\n",
    "ngmesh.SetGeometry(unit_square)\n",
    "ngmesh.dim = 2\n",
    "pnums = []\n",
    "for i in range(N + 1):\n",
    "    for j in range(N + 1):\n",
    "        pnums.append(ngmesh.Add(ngm.MeshPoint(ngm.Pnt(i / N, j / N, 0))))\n",
    "\n",
    "foo = ngm.FaceDescriptor(surfnr=1,domin=1,bc=1)\n",
    "ngmesh.Add (foo)\n",
    "ngmesh.SetMaterial(1, \"mat\")\n",
    "for j in range(N):\n",
    "    for i in range(N):\n",
    "        ngmesh.Add(ngm.Element2D(1, [pnums[i + j * (N + 1)],\n",
    "                                 pnums[i + (j + 1) * (N + 1)],\n",
    "                                 pnums[i + 1 + (j + 1) * (N + 1)],\n",
    "                                 pnums[i + 1 + j * (N + 1)]]))\n",
    "for i in range(N):\n",
    "   ngmesh.Add(ngm.Element1D([pnums[N + i * (N + 1)], pnums[N + (i + 1) * (N + 1)]], index=1))\n",
    "   ngmesh.Add(ngm.Element1D([pnums[0 + i * (N + 1)], pnums[0 + (i + 1) * (N + 1)]], index=1))\n",
    "for i in range(N):\n",
    "   ngmesh.Add(ngm.Element1D([pnums[i], pnums[i + 1]], index=2))\n",
    "   ngmesh.Add(ngm.Element1D([pnums[i + N * (N + 1)], pnums[i + 1 + N * (N + 1)]], index=2))\n",
    "\n",
    "mesh = Mesh(ngmesh)\n",
    "# Draw(mesh)\n",
    "# print(\"boundaries\" + str(mesh.GetBoundaries()))"
   ]
  },
  {
   "cell_type": "code",
   "execution_count": 22,
   "metadata": {
    "collapsed": true
   },
   "outputs": [],
   "source": [
    "from ngsolve import *\n",
    "from trefftzngs import *\n",
    "import numpy as np\n",
    "# fes = L2(mesh, order=order, flags = { \"dgjumps\" : True })\n",
    "\n",
    "truesol =  sin( k*(c*x + y) )#exp(-pow(c*x+y,2)))#\n",
    "v0 = c*k*cos(k*(c*x+y))#grad(U0)[0]\n",
    "sig0 = -k*cos(k*(c*x+y))#-grad(U0)[1]\n",
    "# U0 = GridFunction(fes)\n",
    "# U0.Set(truesol)\n",
    "# Draw(U0,mesh,'U0')"
   ]
  },
  {
   "cell_type": "code",
   "execution_count": 23,
   "metadata": {
    "collapsed": true
   },
   "outputs": [],
   "source": [
    "def MakeSystem(truesol,v0,sig0,fes):\n",
    "    U = fes.TrialFunction()\n",
    "    V = fes.TestFunction()\n",
    "\n",
    "    v = grad(U)[0]\n",
    "    sig = -grad(U)[1]\n",
    "    w = grad(V)[0]\n",
    "    tau = -grad(V)[1]\n",
    "\n",
    "    vo = grad(U.Other())[0]\n",
    "    sigo = -grad(U.Other())[1]\n",
    "    wo = grad(V.Other())[0]\n",
    "    tauo = -grad(V.Other())[1]\n",
    "\n",
    "    h = specialcf.mesh_size\n",
    "    n = specialcf.normal(2)\n",
    "    n_t = n[0]/Norm(n)\n",
    "    n_x = n[1]/Norm(n)\n",
    "\n",
    "    mean_v = 0.5*(v+vo)\n",
    "    mean_w = 0.5*(w+wo)\n",
    "    mean_sig = 0.5*(sig+sigo)\n",
    "    mean_tau = 0.5*(tau+tauo)\n",
    "\n",
    "    jump_vx = ( v - vo ) * n_x\n",
    "    jump_wx = ( w - wo ) * n_x\n",
    "    jump_sigx = ( sig - sigo ) * n_x\n",
    "    jump_taux = ( tau - tauo ) * n_x\n",
    "\n",
    "    jump_vt = ( v - vo ) * n_t\n",
    "    jump_wt = ( w - wo ) * n_t\n",
    "    jump_sigt = ( sig - sigo ) * n_t\n",
    "    jump_taut = ( tau - tauo ) * n_t\n",
    "\n",
    "    jump_Ut = (U - U.Other()) * n_t\n",
    "    #gfu.vec.data = a.mat.Inverse() * f.vec\n",
    "\n",
    "    timelike = n_x**2 #IfPos(n_t,0,IfPos(-n_t,0,1)) # n_t=0\n",
    "    spacelike = n_t**2 #IfPos(n_x,0,IfPos(-n_x,0,1)) # n_x=0\n",
    "\n",
    "    alpha = 0.5 #pow(10,5)\n",
    "    beta = 0.5 #pow(10,5)\n",
    "    gamma = 1\n",
    "\n",
    "    a = BilinearForm(fes)\n",
    "    # a += SymbolicBFI( spacelike * ( IfPos(n_t,v,vo)*(pow(c,-2)*jump_wt+jump_taux) + IfPos(n_t,sig,sigo)*(jump_wx+jump_taut) ) ,VOL,  skeleton=True ) #space like faces\n",
    "    a += SymbolicBFI( spacelike * ( IfPos(n_t,v,vo)*(pow(c,-2)*jump_wt) + IfPos(n_t,sig,sigo)*(jump_taut) ) ,VOL,  skeleton=True ) #space like faces, no jump in x since horizontal\n",
    "    a += SymbolicBFI( timelike \t* ( mean_v*jump_taux + mean_sig*jump_wx + alpha*jump_vx*jump_wx + beta*jump_sigx*jump_taux ) ,VOL, skeleton=True ) #time like faces\n",
    "    a += SymbolicBFI( spacelike * IfPos(n_t,1,0) * ( pow(c,-2)*v*w + sig*tau ), BND, skeleton=True) #t=T (or *x)\n",
    "    a += SymbolicBFI( timelike \t* ( sig*n_x*w + alpha*v*w ), BND, skeleton=True) #dirichlet boundary 'timelike'\n",
    "    a += SymbolicBFI( spacelike * ( gamma * (jump_Ut)*IfPos(n_t,V.Other(),V) ) ,VOL,  skeleton=True ) #correction term to recover sol of second order system\n",
    "    a += SymbolicBFI( spacelike * ( gamma * IfPos(-n_t,1,0) * U*V ) ,BND,  skeleton=True ) #BND correction term to recover sol of second order system\n",
    "    a.Assemble()\n",
    "\n",
    "    f = LinearForm(fes)\n",
    "    f += SymbolicLFI( spacelike * IfPos(-n_t,1,0) *  ( pow(c,-2)*v0*w + sig0*tau ), BND, skeleton=True) #t=0 (or *(1-x))\n",
    "    f += SymbolicLFI( timelike \t* ( v0 * (alpha*w - tau*n_x) ), BND, skeleton=True) #dirichlet boundary 'timelike'\n",
    "    f += SymbolicLFI( spacelike * gamma * IfPos(-n_t,1,0) *  ( (truesol)*V ) ,BND,  skeleton=True ) #rhs correction term to recover sol of second order system\n",
    "    f.Assemble()\n",
    "\n",
    "    return [a,f]\n",
    "    # gfu2= GridFunction(fes, name=\"uDG\")\n",
    "    # gfu2.vec.data = a.mat.Inverse() * f.vec"
   ]
  },
  {
   "cell_type": "code",
   "execution_count": 24,
   "metadata": {
    "collapsed": true
   },
   "outputs": [],
   "source": [
    "def SolveNp(a,f,fes):\n",
    "\tgfu = GridFunction(fes, name=\"uDG\")\n",
    "\n",
    "\tnmat = np.zeros((a.mat.height,a.mat.width))\n",
    "\tnvec = np.zeros(a.mat.width)\n",
    "\n",
    "\tfor i in range(a.mat.width):#gfu.vec.data = a.mat.Inverse() * f.vec\n",
    "\t\tfor j in range(a.mat.height):\n",
    "\t\t\tnmat[j,i] = a.mat[j,i]\n",
    "\tnvec = f.vec.FV().NumPy() #nvec\n",
    "\n",
    "\tsol = np.linalg.solve(nmat,nvec)\n",
    "\tfor i in range(a.mat.height):\n",
    "\t\tgfu.vec[i] = sol[i]\n",
    "\t# print(\"cond nmat: \", np.linalg.cond(nmat))\n",
    "\treturn [gfu,np.linalg.cond(nmat)]"
   ]
  },
  {
   "cell_type": "code",
   "execution_count": 25,
   "metadata": {
    "collapsed": true
   },
   "outputs": [],
   "source": [
    "def error(gfu,truesol,fes):\n",
    "\tU0 = GridFunction(fes)\n",
    "\tU0.Set(truesol)\n",
    "\tL2error = Integrate((truesol - gfu)*(truesol - gfu), mesh)\n",
    "\tsH1error = Integrate((grad(U0) - grad(gfu))*(grad(U0) - grad(gfu)), mesh)\n",
    "\t# print(\"error=\", L2error)\n",
    "\t# print(\"grad-error=\", sH1error)\n",
    "\t#Draw(gfu,mesh,'sol')\n",
    "\t#Draw(grad(gfu),mesh,'gradsol')\n",
    "\treturn [L2error,sH1error]"
   ]
  },
  {
   "cell_type": "code",
   "execution_count": null,
   "metadata": {
    "collapsed": true
   },
   "outputs": [],
   "source": [
    "solution = []\n",
    "for order in range(3,order):\n",
    "\tfes = FESpace(\"trefftzfespace\", mesh, order = order, wavespeed = c, dgjumps=True)\n",
    "\t[a,f] = MakeSystem(truesol,v0,sig0,fes)\n",
    "\t[gfu,cond] = SolveNp(a,f,fes)\n",
    "\t[L2error,sH1error] = error(gfu,truesol,fes)\n",
    "\tsolution.append([order,cond,L2error,sH1error])"
   ]
  },
  {
   "cell_type": "code",
   "execution_count": null,
   "metadata": {},
   "outputs": [],
   "source": [
    "import matplotlib.pyplot as plt\n",
    "from matplotlib.ticker import MaxNLocator\n",
    "\n",
    "data = ['condition', 'L2error', 'H1error']\n",
    "\n",
    "for i in range(len(data)):\n",
    "    fig = plt.figure()\n",
    "    ax = fig.gca()\n",
    "    plt.semilogy([sol[0] for sol in solution], [sol[i+1] for sol in solution], '-o')\n",
    "    ax.xaxis.set_major_locator(MaxNLocator(integer=True))\n",
    "    plt.ylabel(data[i])\n",
    "    plt.xlabel('order')\n",
    "    plt.show()"
   ]
  },
  {
   "cell_type": "code",
   "execution_count": null,
   "metadata": {
    "collapsed": true
   },
   "outputs": [],
   "source": []
  }
 ],
 "metadata": {
  "kernelspec": {
   "display_name": "Python 3",
   "language": "python",
   "name": "python3"
  },
  "language_info": {
   "codemirror_mode": {
    "name": "ipython",
    "version": 3
   },
   "file_extension": ".py",
   "mimetype": "text/x-python",
   "name": "python",
   "nbconvert_exporter": "python",
   "pygments_lexer": "ipython3",
   "version": "3.5.2"
  }
 },
 "nbformat": 4,
 "nbformat_minor": 2
}
