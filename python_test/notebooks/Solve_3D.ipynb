{
 "cells": [
  {
   "cell_type": "markdown",
   "metadata": {},
   "source": [
    "Comparing the DG method with the Trefftz-DG method on the anisotropic mesh in 1+1 dimensions. In this case, both, Trefftz and L2 space are constructed from a space for the second order system. Since the Hessian for the L2 space is needed the following lines have to be added in the constructor for the l2 space in l2hofespace.cpp\n",
    "\n",
    "    switch (ma->GetDimension())\n",
    "    {\n",
    "    case 1:\n",
    "        additional_evaluators.Set (\"hesse\", make_shared<T_DifferentialOperator<DiffOpHesse<1>>> ());\n",
    "        break;\n",
    "    case 2:\n",
    "        additional_evaluators.Set (\"hesse\", make_shared<T_DifferentialOperator<DiffOpHesse<2>>> ());\n",
    "        break;\n",
    "    case 3:\n",
    "        additional_evaluators.Set (\"hesse\", make_shared<T_DifferentialOperator<DiffOpHesse<3>>> ());\n",
    "        additional_evaluators.Set (\"hesseboundary\", make_shared<T_DifferentialOperator<DiffOpHesseBoundary<3>>> ());\n",
    "        break;\n",
    "    default:\n",
    "        ;\n",
    "    }"
   ]
  },
  {
   "cell_type": "markdown",
   "metadata": {},
   "source": [
    "## Define Functions"
   ]
  },
  {
   "cell_type": "code",
   "execution_count": 2,
   "metadata": {},
   "outputs": [],
   "source": [
    "import sys\n",
    "sys.path.append(\"..\")\n",
    "from ngsolve import *\n",
    "SetHeapSize(100*1000*1000)\n",
    "\n",
    "from trefftzngs import *\n",
    "from DGeq import *\n",
    "from prodmesh import *\n",
    "import time\n",
    "from netgen.geom2d import unit_square"
   ]
  },
  {
   "cell_type": "code",
   "execution_count": 3,
   "metadata": {},
   "outputs": [],
   "source": [
    "def SolveWaveeq(fes,fullsys,mesh):\n",
    "    [a,f] = DGeqsys(fes,truesol,v0,sig0,c,v0,fullsys)\n",
    "    [gfu, cond] = DGsolve(fes,a,f)\n",
    "    \n",
    "    L2error = sqrt(Integrate((truesol - gfu)*(truesol - gfu), mesh))\n",
    "    \n",
    "    gradtruesol = CoefficientFunction((-sig0,v0))\n",
    "    sH1error = sqrt(Integrate((gradtruesol - grad(gfu))*(gradtruesol - grad(gfu)), mesh))\n",
    "    \n",
    "    dof=fes.ndof/mesh.ne\n",
    "    \n",
    "    return [dof,cond,L2error,sH1error]"
   ]
  },
  {
   "cell_type": "markdown",
   "metadata": {},
   "source": [
    "## Run comparison"
   ]
  },
  {
   "cell_type": "code",
   "execution_count": null,
   "metadata": {},
   "outputs": [
    {
     "name": "stdout",
     "output_type": "stream",
     "text": [
      "run order: 3\n",
      "btype: Trefftz dof: 16.0 cond: 1584.4696238693991 L2error: 0.004757104164565725 H1error: 0.05277760239960372\n",
      "run order: 4\n",
      "btype: Trefftz dof: 25.0 cond: 23914.147436236657 L2error: 0.004729417833582555 H1error: 0.05310063181632405\n",
      "run order: 5\n",
      "btype: Trefftz dof: 36.0 cond: 574414.5450236923 L2error: 0.00472882903992373 H1error: 0.05331939366155698\n",
      "run order: 6\n",
      "btype: Trefftz dof: 49.0 cond: 14459534.636063814 L2error: 0.004730350533519725 H1error: 0.053360192935537724\n",
      "run order: 7\n"
     ]
    }
   ],
   "source": [
    "c = 1\n",
    "t_steps = 1/4\n",
    "nt_steps = 1\n",
    "order = 8\n",
    "k = 1\n",
    "\n",
    "truesol =  sin( k*(c*z+x+y) )#exp(-pow(c*x+y,2)))#\n",
    "v0 = c*k*cos(k*(c*z+x+y))#grad(U0)[0]\n",
    "sig0 = CoefficientFunction( (-k*cos(k*(c*z+x+y)),-k*cos(k*(c*z+x+y))) )#-grad(U0)[1]\n",
    "\n",
    "ngmeshbase = unit_square.GenerateMesh(maxh = t_steps)\n",
    "mesh = ProdMesh(ngmeshbase,t_steps)\n",
    "\n",
    "solution = []\n",
    "\n",
    "for ordr in range(3,order):\n",
    "    print(\"run order: \" + str(ordr))\n",
    "\n",
    "    #btype = 0\n",
    "    #fes = L2(mesh, order=ordr, dgjumps=True)\n",
    "    #[dof,cond,L2error,sH1error] = SolveWaveeq(fes, True, mesh)\n",
    "    #solution.append([btype, ordr, dof,cond,L2error,sH1error])\n",
    "    #print(\"btype: \" + 'L2' + \" dof: \" + str(dof) + \" cond: \" + str(cond) + \" L2error: \" + str(L2error) + \" H1error: \"+ str(sH1error))\n",
    "\n",
    "    btype = 1\n",
    "    fes = FESpace(\"trefftzfespace\", mesh, order = ordr, wavespeed = c, dgjumps=True, basistype = 0)\n",
    "    [dof,cond,L2error,sH1error] = SolveWaveeq(fes, False, mesh)\n",
    "    solution.append([btype,ordr,dof,cond,L2error,sH1error])\n",
    "    print(\"btype: \" + 'Trefftz' + \" dof: \" + str(dof) + \" cond: \" + str(cond) + \" L2error: \" + str(L2error) + \" H1error: \"+ str(sH1error))"
   ]
  },
  {
   "cell_type": "markdown",
   "metadata": {},
   "source": [
    "## Draw Comparison"
   ]
  },
  {
   "cell_type": "code",
   "execution_count": null,
   "metadata": {},
   "outputs": [],
   "source": [
    "import matplotlib.pyplot as plt\n",
    "from matplotlib.ticker import MaxNLocator\n",
    "\n",
    "label = ['','order','dof','condition', 'L2error', 'semi-H1error']\n",
    "sol = np.array(solution)\n",
    "\n",
    "for yaxis in [3,4,5]:\n",
    "    for xaxis in [1,2]:\n",
    "        fig = plt.figure()\n",
    "        ax = fig.gca()\n",
    "        plt.semilogy(sol[sol[:,0]==0,xaxis], sol[sol[:,0]==0,yaxis], '-o', label=\"L2 a,b=0\")\n",
    "        plt.semilogy(sol[sol[:,0]==1,xaxis], sol[sol[:,0]==1,yaxis], '--x', label=\"Trefftz a,b=0\")\n",
    "        ax.xaxis.set_major_locator(MaxNLocator(integer=True))\n",
    "        plt.title('Wavespeed: ' + str(c) + \" Meshsize: \" + str(\"?\"))\n",
    "        plt.legend()\n",
    "        plt.ylabel(label[yaxis])\n",
    "        plt.xlabel(label[xaxis])\n",
    "        #plt.savefig(\"results/pvtv3_\"+label[yaxis]+label[xaxis]+\".png\")\n",
    "        plt.show()"
   ]
  },
  {
   "cell_type": "code",
   "execution_count": null,
   "metadata": {},
   "outputs": [],
   "source": []
  }
 ],
 "metadata": {
  "kernelspec": {
   "display_name": "Python 3",
   "language": "python",
   "name": "python3"
  },
  "language_info": {
   "codemirror_mode": {
    "name": "ipython",
    "version": 3
   },
   "file_extension": ".py",
   "mimetype": "text/x-python",
   "name": "python",
   "nbconvert_exporter": "python",
   "pygments_lexer": "ipython3",
   "version": "3.6.3"
  }
 },
 "nbformat": 4,
 "nbformat_minor": 2
}
