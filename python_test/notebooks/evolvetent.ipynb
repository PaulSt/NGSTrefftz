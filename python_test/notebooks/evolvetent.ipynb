{
 "cells": [
  {
   "cell_type": "markdown",
   "metadata": {},
   "source": [
    "## Testing evolve tent pitching with solution\n",
    "$$ \\sin\\left(ct+\\sum_{i=0}^{dim} \\sqrt{\\frac{1}{dim}}x_i\\right)$$"
   ]
  },
  {
   "cell_type": "code",
   "execution_count": 1,
   "metadata": {},
   "outputs": [],
   "source": [
    "import sys\n",
    "sys.path.append(\"..\")\n",
    "from ngsolve import *\n",
    "SetHeapSize(100*1000*1000)\n",
    "\n",
    "from ngsolve import *\n",
    "from ngsolve.comp import *\n",
    "from ngsolve.TensorProductTools import *\n",
    "import netgen.meshing as ngm\n",
    "from netgen.geom2d import unit_square\n",
    "from netgen.csg import unit_cube\n",
    "from trefftzngs import *\n",
    "from DGeq import *\n",
    "# import netgen.gui\n",
    "import scipy as sp\n",
    "import scipy.sparse.linalg\n",
    "import scipy.linalg\n",
    "import time\n",
    "from scipy.io import savemat\n",
    "from scipy.io import loadmat\n",
    "from netgen.csg import unit_cube\n",
    "\n",
    "import matplotlib.pyplot as plt\n",
    "from matplotlib.ticker import MaxNLocator"
   ]
  },
  {
   "cell_type": "code",
   "execution_count": 2,
   "metadata": {},
   "outputs": [
    {
     "name": "stdout",
     "output_type": "stream",
     "text": [
      "dim: 1\n",
      "order: 2 err: nan\n",
      "order: 3 err: nan\n",
      "order: 4 err: nan\n",
      "order: 5 err: nan\n",
      "dim: 2\n",
      "order: 2 err: 0.0071267641392408175\n",
      "order: 3 err: 0.0416384545156933\n",
      "order: 4 err: 0.00011154002646194957\n",
      "order: 5 err: 4.091900534406151e-06\n",
      "dim: 3\n",
      "order: 2 err: 0.002399366017438417\n",
      "order: 3 err: 0.0011338442359134318\n",
      "order: 4 err: 2.8762975588126794e-05\n",
      "order: 5 err: 1.935767406398155e-05\n"
     ]
    }
   ],
   "source": [
    "maxorder=6\n",
    "c = 3\n",
    "t_start = 0\n",
    "t_end = 0.2\n",
    "meshes = [Mesh(SegMesh(4,0,1)),\\\n",
    "          Mesh(unit_square.GenerateMesh(maxh=0.5)),\\\n",
    "          Mesh(unit_cube.GenerateMesh(maxh = 0.5))]\n",
    "\n",
    "for initmesh in meshes:\n",
    "    print(\"dim: \" + str(initmesh.dim))\n",
    "    for order in range(2,maxorder):\n",
    "        wavefront = EvolveTentsMakeWavefront(order,initmesh,c,t_start)\n",
    "        mat = EvolveTents(order,initmesh,c,t_end,wavefront,0)\n",
    "        l2err = EvolveTentsPostProcess(order,initmesh,mat,EvolveTentsMakeWavefront(order,initmesh,c,t_end))\n",
    "        print(\"order: \" + str(order) + \" err: \" + str(l2err))"
   ]
  },
  {
   "cell_type": "markdown",
   "metadata": {},
   "source": [
    "## repeated tent pitching up to time = 1"
   ]
  },
  {
   "cell_type": "code",
   "execution_count": 3,
   "metadata": {},
   "outputs": [
    {
     "name": "stdout",
     "output_type": "stream",
     "text": [
      "order: 2 err: 0.054708424204489944\n",
      "final  time:0.9\n"
     ]
    }
   ],
   "source": [
    "order=2\n",
    "c = 4\n",
    "t_step = 0.9\n",
    "t=0\n",
    "initmesh = Mesh(unit_square.GenerateMesh(maxh = 0.5))\n",
    "\n",
    "mat = EvolveTentsMakeWavefront(order,initmesh,c,0)\n",
    "for run in range(1):\n",
    "    mat = EvolveTents(order,initmesh,c,t_step,mat, t)\n",
    "    t+=t_step\n",
    "    print(\"order: \" + str(order) + \" err: \" + \\\n",
    "          str(EvolveTentsPostProcess(order,initmesh,mat,EvolveTentsMakeWavefront(order,initmesh,c,t))))\n",
    "print(\"final  time:\" + str(t))"
   ]
  },
  {
   "cell_type": "code",
   "execution_count": 4,
   "metadata": {},
   "outputs": [
    {
     "name": "stdout",
     "output_type": "stream",
     "text": [
      "order: 5 err: 1.4907093591058028e-06\n",
      "order: 5 err: 1.8559630476343049e-06\n",
      "order: 5 err: 2.3551758833570623e-06\n",
      "order: 5 err: 2.7667160766354716e-06\n",
      "order: 5 err: 3.0577563330928578e-06\n",
      "order: 5 err: 3.2392576320489035e-06\n",
      "order: 5 err: 3.2148128642593867e-06\n",
      "order: 5 err: 2.999661602205929e-06\n",
      "order: 5 err: 2.678766500527985e-06\n",
      "order: 5 err: 2.2659342876661607e-06\n",
      "final  time:0.9999999999999999\n"
     ]
    }
   ],
   "source": [
    "order=5\n",
    "c = 4\n",
    "t_step = 0.1\n",
    "t=0\n",
    "initmesh = Mesh(unit_square.GenerateMesh(maxh = 0.5))\n",
    "\n",
    "mat = EvolveTentsMakeWavefront(order,initmesh,c,0)\n",
    "for run in range(10):\n",
    "    mat = EvolveTents(order,initmesh,c,t_step,mat, t)\n",
    "    t+=t_step\n",
    "    print(\"order: \" + str(order) + \" err: \" + \\\n",
    "          str(EvolveTentsPostProcess(order,initmesh,mat,EvolveTentsMakeWavefront(order,initmesh,c,t))))\n",
    "print(\"final  time:\" + str(t))"
   ]
  },
  {
   "cell_type": "markdown",
   "metadata": {},
   "source": [
    "## hp-convergence"
   ]
  },
  {
   "cell_type": "code",
   "execution_count": 5,
   "metadata": {},
   "outputs": [
    {
     "data": {
      "image/png": "[encoded data removed]",
      "text/plain": [
       "<Figure size 432x288 with 1 Axes>"
      ]
     },
     "metadata": {},
     "output_type": "display_data"
    }
   ],
   "source": [
    "maxorder = 9\n",
    "c = 3\n",
    "t_start = 0\n",
    "t_end = 0.4\n",
    "\n",
    "fig = plt.figure()\n",
    "ax = fig.gca()\n",
    "for h in range(2,9,2):\n",
    "    error = []\n",
    "    initmesh = Mesh(SegMesh(h,0,1))\n",
    "    for order in range(2,maxorder):\n",
    "        wavefront = EvolveTentsMakeWavefront(order,initmesh,c,t_start)\n",
    "        mat = EvolveTents(order,initmesh,c,t_end,wavefront,0)\n",
    "        l2err = EvolveTentsPostProcess(order,initmesh,mat,EvolveTentsMakeWavefront(order,initmesh,c,t_end))\n",
    "        #print(\"order: \" + str(order) + \" err: \" + str(l2err))\n",
    "        error.append(l2err)\n",
    "    plt.semilogy(range(2,maxorder) , error, '-o', label=\"h=\"+str(1/h))\n",
    "ax.xaxis.set_major_locator(MaxNLocator(integer=True))\n",
    "plt.title('Wavespeed: ' + str(c) + \" dim: \" + str(initmesh.dim) + \"+1\")\n",
    "plt.legend()\n",
    "#plt.ylabel(label[yaxis])\n",
    "#plt.xlabel(label[xaxis])\n",
    "#plt.savefig(\"results/pvtv3_\"+label[yaxis]+label[xaxis]+\".png\")\n",
    "plt.show()"
   ]
  },
  {
   "cell_type": "code",
   "execution_count": 6,
   "metadata": {},
   "outputs": [
    {
     "data": {
      "image/png": "[encoded data removed]",
      "text/plain": [
       "<Figure size 432x288 with 1 Axes>"
      ]
     },
     "metadata": {},
     "output_type": "display_data"
    }
   ],
   "source": [
    "maxorder = 7\n",
    "c = 3\n",
    "t_start = 0\n",
    "t_end = 0.1\n",
    "\n",
    "fig = plt.figure()\n",
    "ax = fig.gca()\n",
    "for h in [0.5,0.4,0.3,0.25,0.2]:\n",
    "    error = []\n",
    "    initmesh = Mesh(unit_square.GenerateMesh(maxh=h))\n",
    "    for order in range(2,maxorder):\n",
    "        wavefront = EvolveTentsMakeWavefront(order,initmesh,c,t_start)\n",
    "        mat = EvolveTents(order,initmesh,c,t_end,wavefront,0)\n",
    "        l2err = EvolveTentsPostProcess(order,initmesh,mat,EvolveTentsMakeWavefront(order,initmesh,c,t_end))\n",
    "        #print(\"order: \" + str(order) + \" err: \" + str(l2err))\n",
    "        error.append(l2err)\n",
    "    plt.semilogy(range(2,maxorder) , error, '-o', label=\"h=\"+str(h))\n",
    "ax.xaxis.set_major_locator(MaxNLocator(integer=True))\n",
    "plt.title('Wavespeed: ' + str(c) + \" dim: \" + str(initmesh.dim) + \"+1\")\n",
    "plt.legend()\n",
    "#plt.ylabel(label[yaxis])\n",
    "#plt.xlabel(label[xaxis])\n",
    "#plt.savefig(\"results/pvtv3_\"+label[yaxis]+label[xaxis]+\".png\")\n",
    "plt.show()"
   ]
  },
  {
   "cell_type": "code",
   "execution_count": null,
   "metadata": {},
   "outputs": [],
   "source": []
  }
 ],
 "metadata": {
  "kernelspec": {
   "display_name": "Python 3",
   "language": "python",
   "name": "python3"
  },
  "language_info": {
   "codemirror_mode": {
    "name": "ipython",
    "version": 3
   },
   "file_extension": ".py",
   "mimetype": "text/x-python",
   "name": "python",
   "nbconvert_exporter": "python",
   "pygments_lexer": "ipython3",
   "version": "3.7.0"
  }
 },
 "nbformat": 4,
 "nbformat_minor": 2
}
