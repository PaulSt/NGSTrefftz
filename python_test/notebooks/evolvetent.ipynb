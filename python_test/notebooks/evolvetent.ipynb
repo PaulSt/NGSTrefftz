{
 "cells": [
  {
   "cell_type": "markdown",
   "metadata": {},
   "source": [
    "## Testing evolve tent pitching with solution\n",
    "$$ \\sin\\left(ct+\\sum_{i=1}^{dim} \\sqrt{\\frac{1}{dim}}x_i\\right)$$"
   ]
  },
  {
   "cell_type": "code",
   "execution_count": null,
   "metadata": {},
   "outputs": [],
   "source": [
    "import sys\n",
    "sys.path.append(\"..\")\n",
    "from ngsolve import *\n",
    "SetHeapSize(100*1000*1000)\n",
    "\n",
    "from ngsolve import *\n",
    "from ngsolve.comp import *\n",
    "from ngsolve.TensorProductTools import *\n",
    "import netgen.meshing as ngm\n",
    "from netgen.geom2d import unit_square\n",
    "from netgen.csg import unit_cube\n",
    "from trefftzngs import *\n",
    "from prodmesh import * \n",
    "from testcases import *\n",
    "# import netgen.gui\n",
    "import scipy as sp\n",
    "import scipy.sparse.linalg\n",
    "import scipy.linalg\n",
    "import time\n",
    "from scipy.io import savemat\n",
    "from scipy.io import loadmat\n",
    "from netgen.csg import unit_cube\n",
    "\n",
    "import matplotlib.pyplot as plt\n",
    "from matplotlib.ticker import MaxNLocator\n",
    "from mpltools import annotation\n",
    "%matplotlib notebook"
   ]
  },
  {
   "cell_type": "markdown",
   "metadata": {},
   "source": [
    "## timing"
   ]
  },
  {
   "cell_type": "code",
   "execution_count": null,
   "metadata": {},
   "outputs": [],
   "source": [
    "t_start=0\n",
    "order=3\n",
    "c=3\n",
    "t_end=1\n",
    "initmesh = Mesh(unit_cube.GenerateMesh(maxh=0.4))\n",
    "bdd = simplesin(initmesh.dim,c)\n",
    "wavefront = EvolveTentsMakeWavefront(order,initmesh,c,t_start,bdd)\n",
    "mat = EvolveTents(order,initmesh,c,t_end,wavefront,0,bdd)\n",
    "l2err = EvolveTentsL2Error(order,initmesh,mat,EvolveTentsMakeWavefront(order,initmesh,c,t_end,bdd))\n",
    "\n",
    "for t in Timers():\n",
    "    print(t)"
   ]
  },
  {
   "cell_type": "code",
   "execution_count": null,
   "metadata": {},
   "outputs": [],
   "source": [
    "12/841 #30 dofs"
   ]
  },
  {
   "cell_type": "markdown",
   "metadata": {},
   "source": [
    "## hp-convergence"
   ]
  },
  {
   "cell_type": "code",
   "execution_count": null,
   "metadata": {},
   "outputs": [],
   "source": [
    "t_start = 0\n",
    "t_end = 1\n",
    "\n",
    "def hpplot(error,xrange,maxh,title=\"\"):\n",
    "    squashtitle = title.replace(\" \", \"\")\n",
    "    #fig, (left, right) = plt.subplots(ncols=2, figsize=(10, 5))\n",
    "    fig = plt.figure()\n",
    "    #plt.subplot(1, 2, 1)\n",
    "    ax = fig.gca()\n",
    "    for i,h in enumerate(maxh):\n",
    "        plt.semilogy(xrange , error[i], '-o', label=\"h=\"+str(h))\n",
    "    ax.xaxis.set_major_locator(MaxNLocator(integer=True))\n",
    "    plt.title(title)\n",
    "    plt.legend()\n",
    "    plt.ylabel(\"L2-error\")\n",
    "    plt.xlabel(\"order\")\n",
    "    #plt.savefig(\"results/pvtv3_\"+label[yaxis]+label[xaxis]+\".png\")\n",
    "    #plt.show()\n",
    "    #fig1 = plt.gcf()\n",
    "    #plt.show()\n",
    "    #plt.draw()\n",
    "    #fig1.savefig('results/convsp_'+squashtitle+\"order\"+'.png', format='png', dpi=400)\n",
    "    plt.savefig('results/convsp_'+squashtitle+\"order\"+'.eps', format='eps', dpi=1000)\n",
    "    \n",
    "    fig = plt.figure()\n",
    "    #plt.subplot(1, 2, 2)\n",
    "    ax = fig.gca()\n",
    "    for i,h in enumerate(list(xrange)): \n",
    "        if (squashtitle==\"1+1dimensions\" and i%2) or squashtitle==\"2+1dimensions\":\n",
    "            plt.loglog( maxh, [er[i] for er in error], '-o', label=\"ord=\"+str(h))\n",
    "            annotation.slope_marker((0.3,error[2][i]), h+0.5,invert=True, ax=ax,size_frac=0.2)\n",
    "        if(squashtitle==\"3+1dimensions\"):\n",
    "            plt.loglog( maxh, [er[i] for er in error], '-o', label=\"ord=\"+str(h))\n",
    "            annotation.slope_marker((0.35,error[2][i]+error[2][i]*0.9), h+0.5,invert=True, ax=ax,size_frac=0.2)\n",
    "            #plt.setp(ax.get_xticklabels(), rotation=30, horizontalalignment='right')\n",
    "    for label in ax.xaxis.get_ticklabels()[::2]:\n",
    "        label.set_visible(False)\n",
    "    #plt.title('Wavespeed: ' + str(c) + \" dim: \" + str(initmesh.dim) + \"+1\")\n",
    "    plt.gca().invert_xaxis()\n",
    "    plt.legend()\n",
    "    plt.title(title)\n",
    "    plt.ylabel(\"L2-error\")\n",
    "    plt.xlabel(\"maxh\")\n",
    "    #plt.savefig(\"results/pvtv3_\"+label[yaxis]+label[xaxis]+\".png\")\n",
    "    #plt.show()\n",
    "    #fig2 = plt.gcf()\n",
    "    #plt.show()\n",
    "    #plt.draw()\n",
    "    #fig2.savefig('results/convsp_'+squashtitle+\"maxh\"+'.png', format='png', dpi=400)\n",
    "    plt.savefig('results/convsp_'+squashtitle+\"maxh\"+'.eps', format='eps', dpi=1000)\n",
    "    \n",
    "def hploop(meshes,maxh,maxorder,c):\n",
    "    error = [None] * len(meshes)\n",
    "    for i,initmesh in enumerate(meshes):\n",
    "        error[i] = []\n",
    "        bdd = standingwave(initmesh.dim,c)\n",
    "        for order in range(2,maxorder):\n",
    "            wavefront = EvolveTentsMakeWavefront(order,initmesh,c,t_start,bdd)\n",
    "            mat = EvolveTents(order,initmesh,c,t_end,wavefront,0,bdd)\n",
    "            l2err = EvolveTentsL2Error(order,initmesh,mat,EvolveTentsMakeWavefront(order,initmesh,c,t_end,bdd))\n",
    "            error[i].append(l2err)\n",
    "    return error"
   ]
  },
  {
   "cell_type": "code",
   "execution_count": null,
   "metadata": {},
   "outputs": [],
   "source": [
    "c = 1\n",
    "maxorder = 11\n",
    "meshes = [Mesh(SegMesh(h,0,1)) for h in range(2,9,2)]\n",
    "maxh = [1/h for h in range(2,9,2)]\n",
    "error = hploop(meshes,maxh,maxorder,c)\n",
    "hpplot(error,range(2,maxorder),maxh,\"1+1 dimensions\")"
   ]
  },
  {
   "cell_type": "code",
   "execution_count": null,
   "metadata": {},
   "outputs": [],
   "source": [
    "maxorder = 6\n",
    "c = 1\n",
    "maxh = [h for h in [0.4,0.2,0.1,0.05,0.025]]\n",
    "meshes = [Mesh(unit_square.GenerateMesh(maxh=h)) for h in maxh]\n",
    "error2 = hploop(meshes,maxh,maxorder,c)"
   ]
  },
  {
   "cell_type": "code",
   "execution_count": null,
   "metadata": {},
   "outputs": [],
   "source": [
    "hpplot(error2,range(2,maxorder),maxh,\"2+1 dimensions\")"
   ]
  },
  {
   "cell_type": "code",
   "execution_count": null,
   "metadata": {
    "scrolled": false
   },
   "outputs": [],
   "source": [
    "maxorder = 5\n",
    "c = 1\n",
    "t_end = 1\n",
    "maxh = [h for h in [0.3,0.15,0.075,0.063]]\n",
    "meshes = [Mesh(unit_cube.GenerateMesh(maxh=h)) for h in maxh]\n",
    "error3 = hploop(meshes,maxh,maxorder,c)"
   ]
  },
  {
   "cell_type": "code",
   "execution_count": null,
   "metadata": {},
   "outputs": [],
   "source": [
    "hpplot(error3,range(2,maxorder),maxh,\"3+1 dimensions\")"
   ]
  },
  {
   "cell_type": "markdown",
   "metadata": {},
   "source": [
    "## p-convergence "
   ]
  },
  {
   "cell_type": "code",
   "execution_count": null,
   "metadata": {},
   "outputs": [],
   "source": [
    "maxorder=5\n",
    "c = 3\n",
    "t_start = 0\n",
    "t_end = 2\n",
    "meshes = [Mesh(QadSegMesh(4,0,1)),\\\n",
    "          Mesh(unit_square.GenerateMesh(maxh=0.5)),\\\n",
    "          Mesh(unit_cube.GenerateMesh(maxh = 0.5))]\n",
    "\n",
    "for initmesh in meshes:\n",
    "    D=initmesh.dim\n",
    "    print(\"dim: \" + str(initmesh.dim))\n",
    "    for order in range(2,maxorder):\n",
    "        bdd = simplesin(D,c)\n",
    "        wavefront = EvolveTentsMakeWavefront(order,initmesh,c,t_start,bdd)\n",
    "        mat = EvolveTents(order,initmesh,c,t_end,wavefront,0,bdd)\n",
    "        l2err = EvolveTentsL2Error(order,initmesh,mat,EvolveTentsMakeWavefront(order,initmesh,c,t_end,bdd))\n",
    "        print(\"order: \" + str(order) + \" err: \" + str(l2err))"
   ]
  },
  {
   "cell_type": "markdown",
   "metadata": {},
   "source": [
    "## Energy"
   ]
  },
  {
   "cell_type": "code",
   "execution_count": null,
   "metadata": {},
   "outputs": [],
   "source": [
    "maxorder = 6\n",
    "minorder=4\n",
    "t_start = 0\n",
    "t_step = 50\n",
    "t_end = 1000\n",
    "c = 1\n",
    "initmesh = Mesh(SegMesh(10,0,1)) #Mesh(unit_square.GenerateMesh(maxh=0.09))\n",
    "bdd = simplesin(initmesh.dim,c)\n",
    "#for i in range(0,len(initmesh.GetBoundaries())):\n",
    "#    initmesh.ngmesh.SetBCName(i,\"neumann\")\n",
    "\n",
    "error = [None] * (maxorder-minorder+1)\n",
    "energy = [None] * (maxorder-minorder+1)\n",
    "\n",
    "for o,order in enumerate(range(minorder,maxorder)):\n",
    "    t_start = 0\n",
    "    wavefront = EvolveTentsMakeWavefront(order,initmesh,c,t_start,bdd)\n",
    "    error[o] = []\n",
    "    energy[o] = []\n",
    "    while t_start < t_end:\n",
    "        wavefront = EvolveTents(order,initmesh,c,t_step,wavefront,t_start,bdd)\n",
    "        t_start += t_step\n",
    "        l2err = EvolveTentsL2Error(order,initmesh,wavefront,EvolveTentsMakeWavefront(order,initmesh,c,t_start,bdd))\n",
    "        egy = EvolveTentsEnergy(order,initmesh,wavefront,c)\n",
    "        error[o].append(l2err)\n",
    "        energy[o].append(egy)\n",
    "        \n",
    "t_start = 0\n",
    "error[o+1] = []\n",
    "energy[o+1] = []\n",
    "while t_start < t_end:\n",
    "    t_start += t_step\n",
    "    energy[o+1].append(EvolveTentsEnergy(order,initmesh,EvolveTentsMakeWavefront(order,initmesh,c,t_start,bdd),c))\n",
    "foo=list(range(minorder,maxorder))\n",
    "foo.append(0)\n",
    "\n",
    "xrange=range(0,int(t_end/t_step))\n",
    "maxh=range(minorder,maxorder)\n",
    "fig = plt.figure()\n",
    "ax = fig.gca()\n",
    "for i,h in enumerate(maxh):\n",
    "    plt.semilogy(xrange , error[i], '-o', label=\"h=\"+str(h))\n",
    "ax.xaxis.set_major_locator(MaxNLocator(integer=True))\n",
    "#plt.title('Wavespeed: ' + str(c) + \" dim: \" + str(initmesh.dim) + \"+1\")\n",
    "plt.legend()\n",
    "plt.ylabel(\"L2-error\")\n",
    "plt.xlabel(\"order\")\n",
    "#plt.savefig(\"results/pvtv3_\"+label[yaxis]+label[xaxis]+\".png\")\n",
    "plt.show()\n",
    "\n",
    "xrange=range(int(t_end/t_step))\n",
    "maxh=list(range(minorder,maxorder))\n",
    "maxh.append(0)\n",
    "fig = plt.figure()\n",
    "ax = fig.gca()\n",
    "for i,h in enumerate(maxh):\n",
    "    plt.semilogy(xrange , energy[i], marker=i, label=\"h=\"+str(h))\n",
    "ax.xaxis.set_major_locator(MaxNLocator(integer=True))\n",
    "#plt.title('Wavespeed: ' + str(c) + \" dim: \" + str(initmesh.dim) + \"+1\")\n",
    "plt.legend()\n",
    "plt.ylabel(\"energy\")\n",
    "plt.xlabel(\"time\")\n",
    "#plt.savefig(\"results/pvtv3_\"+label[yaxis]+label[xaxis]+\".png\")\n",
    "plt.show()"
   ]
  },
  {
   "cell_type": "code",
   "execution_count": null,
   "metadata": {},
   "outputs": [],
   "source": []
  }
 ],
 "metadata": {
  "kernelspec": {
   "display_name": "Python 3",
   "language": "python",
   "name": "python3"
  },
  "language_info": {
   "codemirror_mode": {
    "name": "ipython",
    "version": 3
   },
   "file_extension": ".py",
   "mimetype": "text/x-python",
   "name": "python",
   "nbconvert_exporter": "python",
   "pygments_lexer": "ipython3",
   "version": "3.7.1"
  }
 },
 "nbformat": 4,
 "nbformat_minor": 2
}
