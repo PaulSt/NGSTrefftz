{
 "cells": [
  {
   "cell_type": "code",
   "execution_count": 1,
   "id": "00d21fa5",
   "metadata": {},
   "outputs": [
    {
     "name": "stdout",
     "output_type": "stream",
     "text": [
      "importing NGSolve-6.2.2105-313-g71759f3a5\n"
     ]
    }
   ],
   "source": [
    "from ngsolve import *\n",
    "from ngstrefftz import *\n",
    "from netgen.geom2d import unit_square\n",
    "from ngsolve.TensorProductTools import SegMesh\n",
    "from ngsolve import *\n",
    "from ngsolve.webgui import Draw\n",
    "import time"
   ]
  },
  {
   "cell_type": "markdown",
   "id": "8c38ae9a",
   "metadata": {},
   "source": [
    "# Wave equation"
   ]
  },
  {
   "cell_type": "markdown",
   "id": "19673861",
   "metadata": {},
   "source": [
    "We aim to solve the first order wave equation\n",
    "\n",
    "$$ \n",
    "\\begin{align}\n",
    "\\nabla\\cdot\\sigma + c^{-2}\\partial_t v=0 \\\\\n",
    "\\nabla v + \\partial_t \\sigma =0\\\\\n",
    "    v=v_0,\\ \n",
    "    \\sigma=\\sigma_0 \\text{ at } t=0\\\\\n",
    "    v=g_D \\text{ on }\\Gamma_D\n",
    "    \\end{align}\n",
    "$$"
   ]
  },
  {
   "cell_type": "markdown",
   "id": "6a341762",
   "metadata": {},
   "source": [
    "#### Create tensor-product mesh"
   ]
  },
  {
   "cell_type": "markdown",
   "id": "4b0c4e12",
   "metadata": {},
   "source": [
    "A space-time mesh with time along the z-Axis."
   ]
  },
  {
   "cell_type": "code",
   "execution_count": 2,
   "id": "aabc478e",
   "metadata": {
    "code_folding": [
     1,
     53
    ]
   },
   "outputs": [
    {
     "data": {
      "application/vnd.jupyter.widget-view+json": {
       "model_id": "2e7e36b2fef847b3b94b7041c4600df5",
       "version_major": 2,
       "version_minor": 0
      },
      "text/plain": [
       "WebGuiWidget(value={'ngsolve_version': '6.2.2105-313-g71759f3a5', 'mesh_dim': 3, 'order2d': 1, 'order3d': 1, '…"
      ]
     },
     "metadata": {},
     "output_type": "display_data"
    },
    {
     "data": {
      "text/plain": [
       "BaseWebGuiScene"
      ]
     },
     "execution_count": 2,
     "metadata": {},
     "output_type": "execute_result"
    }
   ],
   "source": [
    "import netgen.meshing as ngm\n",
    "def AddSurfElements2DBC(tpmesh,mesh1,mesh2,bndc):\n",
    "    if mesh1.dim==2:\n",
    "        ngm1 = mesh1.ngmesh;\n",
    "        ngm2 = mesh2.ngmesh;\n",
    "    else:\n",
    "        ngm1 = mesh2.ngmesh;\n",
    "        ngm2 = mesh1.ngmesh;\n",
    "    els1 = ngm1.Elements2D()\n",
    "    els2 = ngm2.Elements1D()\n",
    "    # tpmesh.Add (FaceDescriptor(surfnr=1,domin=1,bc=1))\n",
    "\n",
    "    fde = ngm.FaceDescriptor(surfnr=1,domin=1,bc=1)\n",
    "    fde.bcname = \"outflow\"\n",
    "    fdid = tpmesh.Add(fde)\n",
    "    for elx in els1:\n",
    "        vert_loc = elx.vertices\n",
    "        vert_glob = []\n",
    "        for vx in vert_loc:\n",
    "            vert_glob.append(ngm.PointId((vx.nr-1)*len(ngm2.Points())+len(ngm2.Points())))\n",
    "        tpmesh.Add(ngm.Element2D(fdid,vert_glob))\n",
    "\n",
    "    fde = ngm.FaceDescriptor(surfnr=2,domin=1,bc=2)\n",
    "    fde.bcname = \"inflow\"\n",
    "    fdid = tpmesh.Add(fde)\n",
    "    for elx in els1:\n",
    "        vert_loc = elx.vertices\n",
    "        vert_glob = []\n",
    "        for vx in vert_loc:\n",
    "            vert_glob.insert(0,ngm.PointId((vx.nr-1)*len(ngm2.Points())+1))\n",
    "        tpmesh.Add(ngm.Element2D(fdid,vert_glob))\n",
    "\n",
    "    els1 = ngm1.Elements1D()\n",
    "    fde = ngm.FaceDescriptor(surfnr=3,domin=1,bc=3)\n",
    "    fde.bcname = bndc\n",
    "    fdid = tpmesh.Add(fde)\n",
    "    for elx in els1:\n",
    "        for ely in els2:\n",
    "            vert_glob=[]\n",
    "#            for vy in ely.vertices:\n",
    "#                for vx in elx.vertices:\n",
    "            vx = elx.vertices\n",
    "            vy = ely.vertices\n",
    "            vert_glob = [ngm.PointId((vx[1].nr-1)*len(ngm2.Points())+vy[0].nr),\n",
    "                        ngm.PointId((vx[1].nr-1)*len(ngm2.Points())+vy[1].nr),\n",
    "                        ngm.PointId((vx[0].nr-1)*len(ngm2.Points())+vy[1].nr),\n",
    "                        ngm.PointId((vx[0].nr-1)*len(ngm2.Points())+vy[0].nr)]\n",
    "            tpmesh.Add(ngm.Element2D(fdid,vert_glob))\n",
    "    tpmesh.SetBCName(0,\"outflow\")\n",
    "    tpmesh.SetBCName(1,\"inflow\")\n",
    "    tpmesh.SetBCName(2,bndc)\n",
    "    return tpmesh\n",
    "import ngsolve.TensorProductTools as TPT\n",
    "def TensorProdMesh(meshx,mesht,bndc=\"dirichlet\"):\n",
    "    tpmesh = TPT.MakeMesh3D(meshx,mesht)\n",
    "    return Mesh(AddSurfElements2DBC(tpmesh,meshx,mesht,bndc))\n",
    "meshx = Mesh(unit_square.GenerateMesh(maxh=0.3))\n",
    "mesht = Mesh(SegMesh(5,0,1,periodic=False) )\n",
    "mesh = TensorProdMesh(meshx,mesht)\n",
    "Draw(mesh)"
   ]
  },
  {
   "cell_type": "markdown",
   "id": "1eae27bf",
   "metadata": {},
   "source": [
    "#### Trefftz space"
   ]
  },
  {
   "cell_type": "markdown",
   "id": "756dc4c2",
   "metadata": {},
   "source": [
    "The Trefftz-space for an element $K$ in the mesh is given by\n",
    "\n",
    "$$\\mathbb T^p(K)=\\left\\{v\\in \\mathbb P^p \\text{ such that } (c^{-2}\\partial_{tt} -\\Delta) u=0 \\text{ on } K\\right\\}$$"
   ]
  },
  {
   "cell_type": "code",
   "execution_count": 3,
   "id": "a6b70e53",
   "metadata": {},
   "outputs": [],
   "source": [
    "c=1\n",
    "order=3\n",
    "fes = trefftzfespace(mesh,order=order,dgjumps=True,eq=\"fowave\")\n",
    "fes.SetWavespeed(c)"
   ]
  },
  {
   "cell_type": "markdown",
   "id": "e4490619",
   "metadata": {},
   "source": [
    "#### Test case"
   ]
  },
  {
   "cell_type": "code",
   "execution_count": 4,
   "id": "212b2f37",
   "metadata": {},
   "outputs": [],
   "source": [
    "from numpy import pi\n",
    "sq = sqrt(2.0)\n",
    "sig_ex = CoefficientFunction((-cos(pi*x)*sin(pi*y)*sin(pi*z*c*sq)/sq,\n",
    "    -sin(pi*x)*cos(pi*y)*sin(pi*z*c*sq)/sq))\n",
    "v_ex = sin(pi*x)*sin(pi*y)*cos(pi*z*c*sq)*c\n",
    "gD = v_ex"
   ]
  },
  {
   "cell_type": "markdown",
   "id": "89c52c50",
   "metadata": {},
   "source": [
    "#### Trefftz-DG formulation"
   ]
  },
  {
   "cell_type": "markdown",
   "id": "80b1258a",
   "metadata": {},
   "source": [
    "$$\n",
    "\\begin{align}\n",
    "\\text{Seek}&\\quad (v_{hp},\\sigma_{hp})\\in V_p (\\mathcal{T}_h)\\nonumber\\\\\n",
    "\\text{such that}&\\quad\n",
    "\\mathcal{A}(v_{hp},\\sigma_{hp}; w ,\\tau )=\\ell( w ,\\tau )\\quad \n",
    "\\forall ( w ,\\tau )\\in V_p (\\mathcal{T}_h), \n",
    "\\nonumber\\\\\n",
    "\\text{where}&\\nonumber\\\\\n",
    "\\mathcal{A}(v_{hp},&\\sigma_{hp}; w ,\\tau ):=\n",
    "%-\\sum_{K\\in\\mathcal{T}_h} \\int_K\\bigg(v\\Big(\\nabla\\cdot\\tau+c^{-2}\\partial_t w \\Big) +\\sigma_{hp}\\cdot\\Big(\\partial_t \\tau +\\nabla w  \\Big)\\bigg)\n",
    "%\\nonumber\\\\ +&\n",
    "\\int_{F^{space}}\\big(c^{-2}v_{hp}^-[[{w}]]_t+\\sigma_{hp}^-\\cdot[[{\\tau}]]_t+v_{hp}^-[[{\\tau}]]_N+\\sigma_{hp}^-\\cdot[[{w}]]_N\\big)\n",
    "\\nonumber\n",
    "\\\\\n",
    "+&\\int_{F^{time}}\\!\\! \\big( \\{\\{{v_{hp}}\\}\\}[[{\\tau }]]_N+\\{\\{{\\sigma_{hp}}\\}\\}\\cdot[[{ w }]]_N\n",
    "+\\alpha[[{v_{hp}}]]_N\\cdot[[{ w }]]_N+ \\beta[[{\\sigma_{hp}}]]_N[[{\\tau }]]_N\n",
    "\\big)\n",
    "\\nonumber\\\\\n",
    "+&\\int_{F^T} (c^{-2}v_{hp}  w +\\sigma_{hp} \\cdot\\tau )\n",
    "+\\int_{F^D} \\big(\\sigma\\cdot n_\\Omega^x\\, w +\\alpha v_{hp} w   \\big) \n",
    "\\nonumber\\\\\n",
    "\\ell( w ,&\\tau ):=\n",
    "\\int_{F^O} ( c^{-2}v_0 w  +\\sigma_0\\cdot \\tau )\n",
    "+\\int_{F^D} g_D\\big(\\alpha  w -\\tau\\cdot n_\\Omega^x\\big)\n",
    "\\nonumber\n",
    "\\end{align}\n",
    "$$"
   ]
  },
  {
   "cell_type": "code",
   "execution_count": 5,
   "id": "a0a71f21",
   "metadata": {
    "code_folding": []
   },
   "outputs": [],
   "source": [
    "D = fes.mesh.dim - 1\n",
    "\n",
    "vsig = fes.TrialFunction()\n",
    "wtau = fes.TestFunction()\n",
    "vsigo=vsig.Other()\n",
    "wtauo=wtau.Other()\n",
    "\n",
    "v = vsig[D]\n",
    "sig = CoefficientFunction(tuple([vsig[i] for i in  range(D)]))\n",
    "w = wtau[D]\n",
    "tau = CoefficientFunction(tuple([wtau[i] for i in  range(D)]))\n",
    "\n",
    "vo = vsigo[D]\n",
    "sigo = CoefficientFunction(tuple([vsigo[i] for i in  range(D)]))\n",
    "wo = wtauo[D]\n",
    "tauo = CoefficientFunction(tuple([wtauo[i] for i in  range(D)]))\n",
    "\n",
    "h = specialcf.mesh_size\n",
    "n = specialcf.normal(D+1)\n",
    "n_t = n[D]/Norm(n)\n",
    "n_x = CoefficientFunction( tuple([n[i]/Norm(n) for i in  range(D)]) )\n",
    "\n",
    "mean_v = 0.5*(v+vo)\n",
    "mean_w = 0.5*(w+wo)\n",
    "mean_sig = 0.5*(sig+sigo)\n",
    "mean_tau = 0.5*(tau+tauo)\n",
    "\n",
    "jump_vx = ( v - vo ) * n_x\n",
    "jump_wx = ( w - wo ) * n_x\n",
    "jump_sigx = (( sig - sigo ) * n_x)\n",
    "jump_taux = (( tau - tauo ) * n_x)\n",
    "\n",
    "jump_vt = ( v - vo ) * n_t\n",
    "jump_wt = ( w - wo ) * n_t\n",
    "jump_sigt = ( sig - sigo ) * n_t\n",
    "jump_taut = ( tau - tauo ) * n_t\n",
    "\n",
    "timelike = n_x*n_x # n_t=0\n",
    "spacelike = n_t**2 # n_x=0\n",
    "\n",
    "#params\n",
    "alpha=0.5\n",
    "beta=0.5\n",
    "\n",
    "a = BilinearForm(fes)\n",
    "#space like faces, w/o x jump ASSUME TENSOR MESH\n",
    "a += spacelike * ( pow(c,-2)*IfPos(n_t,v,vo)*jump_wt + IfPos(n_t,sig,sigo)*jump_taut) * dx(skeleton=True)\n",
    "#time like faces\n",
    "a += timelike * ( mean_v*jump_taux + mean_sig*jump_wx + alpha*jump_vx*jump_wx + beta*jump_sigx*jump_taux ) * dx(skeleton=True )        #t=T (or *x)\n",
    "a += ( pow(c,-2)*v*w + sig*tau) * ds(definedon=fes.mesh.Boundaries(\"outflow\"), skeleton=True)\n",
    "#dirichlet boundary 'timelike'\n",
    "a += ( sig*n_x*w + alpha*v*w ) * ds(definedon=fes.mesh.Boundaries(\"dirichlet\"), skeleton=True)\n",
    "\n",
    "f = LinearForm(fes)\n",
    "f += ( pow(c,-2)*v_ex*w + sig_ex*tau ) * ds(definedon=fes.mesh.Boundaries(\"inflow\"), skeleton=True) \n",
    "f += ( gD * (alpha*w - tau*n_x) ) * ds(definedon=fes.mesh.Boundaries(\"dirichlet\"), skeleton=True) "
   ]
  },
  {
   "cell_type": "code",
   "execution_count": 6,
   "id": "c162bc05",
   "metadata": {},
   "outputs": [
    {
     "data": {
      "application/vnd.jupyter.widget-view+json": {
       "model_id": "8c3e4a6887fe444ea0713fdd56c97595",
       "version_major": 2,
       "version_minor": 0
      },
      "text/plain": [
       "WebGuiWidget(value={'ngsolve_version': '6.2.2105-313-g71759f3a5', 'mesh_dim': 3, 'order2d': 2, 'order3d': 2, '…"
      ]
     },
     "metadata": {},
     "output_type": "display_data"
    },
    {
     "data": {
      "text/plain": [
       "BaseWebGuiScene"
      ]
     },
     "execution_count": 6,
     "metadata": {},
     "output_type": "execute_result"
    }
   ],
   "source": [
    "with TaskManager():\n",
    "    a.Assemble()\n",
    "    f.Assemble()\n",
    "    \n",
    "gfu = GridFunction(fes, name=\"uDG\")\n",
    "gfu.vec.data = a.mat.Inverse()*f.vec\n",
    "Draw(gfu)"
   ]
  },
  {
   "cell_type": "markdown",
   "id": "d43790c2",
   "metadata": {},
   "source": [
    "Use clipping to show the solution inside the space-time mesh."
   ]
  },
  {
   "cell_type": "markdown",
   "id": "d314129b",
   "metadata": {},
   "source": [
    "### $L^2$-error"
   ]
  },
  {
   "cell_type": "code",
   "execution_count": 7,
   "id": "e77dfc9e",
   "metadata": {},
   "outputs": [
    {
     "data": {
      "text/plain": [
       "3.098501426790349e-06"
      ]
     },
     "execution_count": 7,
     "metadata": {},
     "output_type": "execute_result"
    }
   ],
   "source": [
    "Integrate((gfu-CoefficientFunction((sig_ex,v_ex)))**2,mesh)"
   ]
  }
 ],
 "metadata": {
  "kernelspec": {
   "display_name": "Python 3 (ipykernel)",
   "language": "python",
   "name": "python3"
  },
  "language_info": {
   "codemirror_mode": {
    "name": "ipython",
    "version": 3
   },
   "file_extension": ".py",
   "mimetype": "text/x-python",
   "name": "python",
   "nbconvert_exporter": "python",
   "pygments_lexer": "ipython3",
   "version": "3.10.2"
  }
 },
 "nbformat": 4,
 "nbformat_minor": 5
}
