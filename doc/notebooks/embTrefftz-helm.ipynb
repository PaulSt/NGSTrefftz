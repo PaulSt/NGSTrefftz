{
 "cells": [
  {
   "cell_type": "code",
   "execution_count": 1,
   "id": "d6d31794",
   "metadata": {},
   "outputs": [
    {
     "name": "stdout",
     "output_type": "stream",
     "text": [
      "importing NGSolve-6.2.2105-204-gb9f5842ea\n"
     ]
    }
   ],
   "source": [
    "from ngsolve import *\n",
    "from ngstrefftz import *\n",
    "from netgen.geom2d import unit_square\n",
    "from netgen.csg import unit_cube"
   ]
  },
  {
   "cell_type": "markdown",
   "id": "a08f0db0",
   "metadata": {},
   "source": [
    "# embedded Trefftz-DG for Helmholtz\n",
    "Standard polynomial Trefftz functions for the Helmholtz equation do not exist, to circumvent this problem, we weaken our condition in the Trefftz space. We introduce a projection $\\Pi$ that is yet to be defined and define the weak Trefftz space and the embedded weak Trefftz DG method:\n",
    "\n",
    "$$\n",
    "\\newcommand{\\Th}{{\\mathcal{T}_h}} \n",
    "\\newcommand{\\Fh}{\\mathcal{F}_h} \n",
    "\\newcommand{\\dom}{\\Omega} \n",
    "\\newcommand{\\jump}[1]{[\\![ #1 ]\\!]}\n",
    "\\newcommand{\\tjump}[1]{[\\![{#1} ]\\!]_\\tau}\n",
    "\\newcommand{\\avg}[1]{\\{\\!\\!\\{#1\\}\\!\\!\\}}\n",
    "\\newcommand{\\nx}{n_\\mathbf{x}} \n",
    "\\newcommand{\\Vhp}{V^p(\\Th)}\n",
    "\\newcommand{\\bT}{\\mathbf{T}}\n",
    "\\newcommand{\\bW}{\\mathbf{W}}\n",
    "\\newcommand{\\bw}{\\mathbf{w}}\n",
    "\\newcommand{\\bl}{\\mathbf{l}}\n",
    "\\newcommand{\\bM}{\\mathbf{M}}\n",
    "\\newcommand{\\bL}{\\mathbf{L}}\n",
    "\\newcommand{\\bA}{\\mathbf{A}}\n",
    "\\newcommand{\\bU}{\\mathbf{U}}\n",
    "\\newcommand{\\bV}{\\mathbf{V}}\n",
    "\\newcommand{\\calL}{\\mathcal{L}}\n",
    "\\newcommand{\\bu}{\\mathbf{u}}\n",
    "\\newcommand{\\IT}{\\mathbb{T}}\n",
    "\\newcommand{\\calG}{\\mathcal{G}}\n",
    "\\newcommand{\\be}{\\mathbf{e}}\n",
    "\\newcommand{\\bx}{{\\mathbf x}}\n",
    "\\newcommand{\\inner}[1]{\\langle #1 \\rangle}\n",
    "\\begin{align}\n",
    "    \\text{Find }u_{\\IT}\\in \\IT^p(\\Th)&,~\\text{ s.t. }\n",
    "    a_h(u_{\\IT},v_{\\IT})=\\ell(v_{\\IT})\\qquad \\forall v_{\\IT}\\in \\IT^p(\\Th)\\quad \\text{ with } \\\\\n",
    "    \\IT^p(\\Th)&=\\{v\\in \\Vhp,\\ \\Pi \\calL v=0\\}. \\label{eq:weakTspace}\n",
    "    % \\\\ &\\IT^p(\\Th)=\\{v\\in L^2(\\dom) \\sst \\restr{v}{K}\\in\\IT(K),\\forall K\\in\\Th\\}\n",
    "\\end{align}\n",
    "$$\n",
    "\n",
    "This way, we can re-define the matrix $\\bW$ for the general case as \n",
    "\n",
    "$$\n",
    "\\begin{align} \\label{def:W3}\n",
    "    (\\bW)_{ij}&=\\inner{\\calL\\phi_j,\\tilde\\calL\\phi_i}_{0,h}. \n",
    "\\end{align}\n",
    "$$\n",
    "\n",
    "\n",
    "For the Helmholtz equation with Robin boundary conditions\n",
    "\n",
    "$$\n",
    "\\begin{align*}\n",
    "    \\begin{cases}\n",
    "    -\\Delta u - \\omega^2 u= 0 &\\text{ in } \\dom, \\\\\n",
    "    \\frac{\\partial u}{\\partial \\nx} + i u = g &\\text{ on } \\partial \\dom.\n",
    "    \\end{cases}\n",
    "\\end{align*}\n",
    "$$\n",
    "\n",
    "we choose the operators\n",
    "\n",
    "$$\n",
    "\\begin{align*}\n",
    "\\calL=-\\Delta u -\\omega^2 u && \\tilde\\calL=-\\Delta u\n",
    "\\end{align*}\n",
    "$$"
   ]
  },
  {
   "cell_type": "code",
   "execution_count": 2,
   "id": "ad81be3d",
   "metadata": {},
   "outputs": [],
   "source": [
    "mesh = Mesh(unit_square.GenerateMesh(maxh=.3))\n",
    "fes = L2(mesh, order=4, complex=True, dgjumps=True)\n",
    "u,v = fes.TnT()"
   ]
  },
  {
   "cell_type": "code",
   "execution_count": 3,
   "id": "67425dba",
   "metadata": {},
   "outputs": [],
   "source": [
    "omega=1\n",
    "n = specialcf.normal(2)\n",
    "exact = exp(1j*sqrt(0.5)*(x+y))\n",
    "gradexact = CoefficientFunction((sqrt(0.5)*1j*exact, sqrt(0.5)*1j*exact))\n",
    "bndc = gradexact*n + 1j*omega*exact\n",
    "eps = 10**-7"
   ]
  },
  {
   "cell_type": "code",
   "execution_count": 4,
   "id": "914f0661",
   "metadata": {},
   "outputs": [],
   "source": [
    "h = specialcf.mesh_size\n",
    "alpha = 1/(omega*h)\n",
    "beta = omega*h\n",
    "delta = omega*h\n",
    "\n",
    "jump_u = (u-u.Other())*n\n",
    "jump_v = (v-v.Other())*n\n",
    "jump_du = (grad(u)-grad(u.Other()))*n\n",
    "jump_dv = (grad(v)-grad(v.Other()))*n\n",
    "mean_u = 0.5 * ((u)+(u.Other()))\n",
    "mean_du = 0.5 * (grad(u)+grad(u.Other()))\n",
    "mean_dv = 0.5 * (grad(v)+grad(v.Other()))\n",
    "\n",
    "a = BilinearForm(fes)\n",
    "a += grad(u)*(grad(v))*dx - omega**2*u*(v)*dx\n",
    "\n",
    "a += -(jump_u*(mean_dv)+mean_du*(jump_v)) * dx(skeleton=True)\n",
    "a += -1/(omega*1j)*beta*(jump_du*(jump_dv)) * dx(skeleton=True)\n",
    "a += omega*1j*alpha*jump_u*(jump_v) * dx(skeleton=True)\n",
    "\n",
    "a += -delta*(u*(grad(v))*n+grad(u)*n*(v)) * ds(skeleton=True)\n",
    "a += -1/(omega*1j)*delta*(grad(u)*n)*((grad(v))*n) * ds(skeleton=True)\n",
    "a += omega*1j*(1-delta)*u*(v) * ds(skeleton=True)\n",
    "\n",
    "f = LinearForm(fes)\n",
    "f += -1/(omega*1j)*delta*bndc*(grad(v))*n*ds(skeleton=True)\n",
    "f += (1-delta)*bndc*(v)*ds(skeleton=True)\n",
    "\n",
    "with TaskManager():\n",
    "    a.Assemble()\n",
    "    f.Assemble()"
   ]
  },
  {
   "cell_type": "code",
   "execution_count": 6,
   "id": "a84d0817",
   "metadata": {},
   "outputs": [
    {
     "name": "stdout",
     "output_type": "stream",
     "text": [
      "error  2.897248343079839e-08\n"
     ]
    }
   ],
   "source": [
    "Lap = lambda u : sum(Trace(u.Operator('hesse')))\n",
    "op = (-Lap(u)-u)*(Lap(v))*dx+1j*(-Lap(u)-u)*(Lap(v))*dx\n",
    "eps = 10**-8\n",
    "with TaskManager():\n",
    "    PP = TrefftzEmbedding(op,fes,eps)\n",
    "PPT = PP.CreateTranspose()\n",
    "with TaskManager():\n",
    "    TA = PPT@a.mat@PP\n",
    "    TU = TA.Inverse()*(PPT*f.vec)\n",
    "    tpgfu = GridFunction(fes)\n",
    "    tpgfu.vec.data = PP*TU\n",
    "error = sqrt(Integrate((tpgfu-exact)*Conj(tpgfu-exact), mesh).real)\n",
    "print(\"error \",error)"
   ]
  }
 ],
 "metadata": {
  "kernelspec": {
   "display_name": "Python 3 (ipykernel)",
   "language": "python",
   "name": "python3"
  },
  "language_info": {
   "codemirror_mode": {
    "name": "ipython",
    "version": 3
   },
   "file_extension": ".py",
   "mimetype": "text/x-python",
   "name": "python",
   "nbconvert_exporter": "python",
   "pygments_lexer": "ipython3",
   "version": "3.10.2"
  }
 },
 "nbformat": 4,
 "nbformat_minor": 5
}
