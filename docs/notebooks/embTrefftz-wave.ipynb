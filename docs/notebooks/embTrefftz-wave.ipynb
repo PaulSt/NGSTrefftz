{
 "cells": [
  {
   "cell_type": "markdown",
   "id": "8c38ae9a",
   "metadata": {},
   "source": [
    "# Embedded Trefftz-DG: Wave Equation"
   ]
  },
  {
   "cell_type": "code",
   "execution_count": null,
   "id": "00d21fa5",
   "metadata": {},
   "outputs": [],
   "source": [
    "from ngsolve import *\n",
    "from ngstrefftz import *\n",
    "from netgen.occ import *\n",
    "from ngsolve.TensorProductTools import MakeTensorProductMesh, SegMesh\n",
    "from ngsolve import *\n",
    "from ngsolve.webgui import Draw"
   ]
  },
  {
   "cell_type": "markdown",
   "id": "19673861",
   "metadata": {},
   "source": [
    "We aim to solve the first order wave equation\n",
    "\n",
    "$$ \n",
    "\\begin{align}\n",
    "\\nabla\\cdot\\sigma + c^{-2}\\partial_t v=0 \\\\\n",
    "\\nabla v + \\partial_t \\sigma =0\\\\\n",
    "    v=v_0,\\ \n",
    "    \\sigma=\\sigma_0 \\text{ at } t=0\\\\\n",
    "    v=g_D \\text{ on }\\Gamma_D\n",
    "    \\end{align}\n",
    "$$\n",
    "    \n",
    "To apply the embedded Trefftz framework we take\n",
    "\n",
    "$$\n",
    "    \\DeclareMathOperator\\dt{\\frac{\\partial}{\\partial t}}\n",
    "\\newcommand{\\calL}{\\mathcal{L}}\n",
    "\\begin{align*}\n",
    "    \\calL=\n",
    "\\begin{pmatrix}\n",
    "    \\nabla\\cdot & c^{-2}\\dt \\\\\n",
    "    \\nabla & \\dt\n",
    "\\end{pmatrix}\n",
    "\\qquad\n",
    "u=\n",
    "\\begin{pmatrix}\n",
    "    \\mathbf{\\sigma}\\\\\n",
    "    v\n",
    "\\end{pmatrix}\n",
    "\\end{align*}\n",
    "$$\n"
   ]
  },
  {
   "cell_type": "markdown",
   "id": "6a341762",
   "metadata": {},
   "source": [
    "#### Create tensor-product mesh"
   ]
  },
  {
   "cell_type": "markdown",
   "id": "4b0c4e12",
   "metadata": {},
   "source": [
    "A space-time mesh with time along the z-Axis."
   ]
  },
  {
   "cell_type": "code",
   "execution_count": null,
   "id": "aabc478e",
   "metadata": {
    "code_folding": [
     1
    ]
   },
   "outputs": [],
   "source": [
    "meshx = Mesh(unit_square.GenerateMesh(maxh=0.2))\n",
    "mesht = Mesh(SegMesh(5,0,1,periodic=False) )\n",
    "mesh = Mesh(MakeTensorProductMesh(meshx,mesht))"
   ]
  },
  {
   "cell_type": "markdown",
   "id": "aa31bd06",
   "metadata": {},
   "source": [
    "#### discrete space"
   ]
  },
  {
   "cell_type": "code",
   "execution_count": null,
   "id": "a6b70e53",
   "metadata": {},
   "outputs": [],
   "source": [
    "c=1\n",
    "order=3\n",
    "X = L2(mesh,order=order,dgjumps=True)\n",
    "fes=FESpace([X for _ in range(mesh.dim)])"
   ]
  },
  {
   "cell_type": "markdown",
   "id": "e4490619",
   "metadata": {},
   "source": [
    "#### test case"
   ]
  },
  {
   "cell_type": "code",
   "execution_count": null,
   "id": "212b2f37",
   "metadata": {},
   "outputs": [],
   "source": [
    "from numpy import pi\n",
    "sq = sqrt(2.0)\n",
    "sig_ex = CoefficientFunction((-cos(pi*x)*sin(pi*y)*sin(pi*z*c*sq)/sq,\n",
    "    -sin(pi*x)*cos(pi*y)*sin(pi*z*c*sq)/sq))\n",
    "v_ex = sin(pi*x)*sin(pi*y)*cos(pi*z*c*sq)*c\n",
    "gD = v_ex"
   ]
  },
  {
   "cell_type": "markdown",
   "id": "89c52c50",
   "metadata": {},
   "source": [
    "#### Trefftz-DG formulation"
   ]
  },
  {
   "cell_type": "markdown",
   "id": "80b1258a",
   "metadata": {},
   "source": [
    "$$\n",
    "\\begin{align}\n",
    "\\text{Seek}&\\quad (v_{hp},\\sigma_{hp})\\in V_p (\\mathcal{T}_h)\\nonumber\\\\\n",
    "\\text{such that}&\\quad\n",
    "\\mathcal{A}(v_{hp},\\sigma_{hp}; w ,\\tau )=\\ell( w ,\\tau )\\quad \n",
    "\\forall ( w ,\\tau )\\in V_p (\\mathcal{T}_h), \n",
    "\\nonumber\\\\\n",
    "\\text{where}&\\nonumber\\\\\n",
    "\\mathcal{A}(v_{hp},&\\sigma_{hp}; w ,\\tau ):=\n",
    "%-\\sum_{K\\in\\mathcal{T}_h} \\int_K\\bigg(v\\Big(\\nabla\\cdot\\tau+c^{-2}\\partial_t w \\Big) +\\sigma_{hp}\\cdot\\Big(\\partial_t \\tau +\\nabla w  \\Big)\\bigg)\n",
    "%\\nonumber\\\\ +&\n",
    "\\int_{F^{space}}\\big(c^{-2}v_{hp}^-[[{w}]]_t+\\sigma_{hp}^-\\cdot[[{\\tau}]]_t+v_{hp}^-[[{\\tau}]]_N+\\sigma_{hp}^-\\cdot[[{w}]]_N\\big)\n",
    "\\nonumber\n",
    "\\\\\n",
    "+&\\int_{F^{time}}\\!\\! \\big( \\{\\{{v_{hp}}\\}\\}[[{\\tau }]]_N+\\{\\{{\\sigma_{hp}}\\}\\}\\cdot[[{ w }]]_N\n",
    "+\\alpha[[{v_{hp}}]]_N\\cdot[[{ w }]]_N+ \\beta[[{\\sigma_{hp}}]]_N[[{\\tau }]]_N\n",
    "\\big)\n",
    "\\nonumber\\\\\n",
    "+&\\int_{F^T} (c^{-2}v_{hp}  w +\\sigma_{hp} \\cdot\\tau )\n",
    "+\\int_{F^D} \\big(\\sigma\\cdot n_\\Omega^x\\, w +\\alpha v_{hp} w   \\big) \n",
    "\\nonumber\\\\\n",
    "\\ell( w ,&\\tau ):=\n",
    "\\int_{F^O} ( c^{-2}v_0 w  +\\sigma_0\\cdot \\tau )\n",
    "+\\int_{F^D} g_D\\big(\\alpha  w -\\tau\\cdot n_\\Omega^x\\big)\n",
    "\\nonumber\n",
    "\\end{align}\n",
    "$$"
   ]
  },
  {
   "cell_type": "code",
   "execution_count": null,
   "id": "a0a71f21",
   "metadata": {
    "code_folding": []
   },
   "outputs": [],
   "source": [
    "D = fes.mesh.dim - 1\n",
    "\n",
    "vsig = fes.TrialFunction()\n",
    "wtau = fes.TestFunction()\n",
    "vsigo = CoefficientFunction(tuple([vsig[i].Other() for i in  range(D+1)]))\n",
    "wtauo = CoefficientFunction(tuple([wtau[i].Other() for i in  range(D+1)]))\n",
    "\n",
    "v = vsig[D]\n",
    "sig = CoefficientFunction(tuple([vsig[i] for i in  range(D)]))\n",
    "w = wtau[D]\n",
    "tau = CoefficientFunction(tuple([wtau[i] for i in  range(D)]))\n",
    "\n",
    "vo = vsigo[D]\n",
    "sigo = CoefficientFunction(tuple([vsigo[i] for i in  range(D)]))\n",
    "wo = wtauo[D]\n",
    "tauo = CoefficientFunction(tuple([wtauo[i] for i in  range(D)]))\n",
    "\n",
    "h = specialcf.mesh_size\n",
    "n = specialcf.normal(D+1)\n",
    "n_t = n[D]/Norm(n)\n",
    "n_x = CoefficientFunction( tuple([n[i]/Norm(n) for i in  range(D)]) )\n",
    "\n",
    "mean_v = 0.5*(v+vo)\n",
    "mean_w = 0.5*(w+wo)\n",
    "mean_sig = 0.5*(sig+sigo)\n",
    "mean_tau = 0.5*(tau+tauo)\n",
    "\n",
    "jump_vx = ( v - vo ) * n_x\n",
    "jump_wx = ( w - wo ) * n_x\n",
    "jump_sigx = (( sig - sigo ) * n_x)\n",
    "jump_taux = (( tau - tauo ) * n_x)\n",
    "\n",
    "jump_vt = ( v - vo ) * n_t\n",
    "jump_wt = ( w - wo ) * n_t\n",
    "jump_sigt = ( sig - sigo ) * n_t\n",
    "jump_taut = ( tau - tauo ) * n_t\n",
    "\n",
    "timelike = n_x*n_x # n_t=0\n",
    "spacelike = n_t**2 # n_x=0\n",
    "\n",
    "#params\n",
    "alpha=0.5\n",
    "beta=0.5\n",
    "\n",
    "a = BilinearForm(fes)\n",
    "#space like faces, w/o x jump ASSUME TENSOR MESH\n",
    "a += spacelike * ( pow(c,-2)*IfPos(n_t,v,vo)*jump_wt + IfPos(n_t,sig,sigo)*jump_taut) * dx(skeleton=True)\n",
    "#time like faces\n",
    "a += timelike * ( mean_v*jump_taux + mean_sig*jump_wx + alpha*jump_vx*jump_wx + beta*jump_sigx*jump_taux ) * dx(skeleton=True )        #t=T (or *x)\n",
    "a += ( pow(c,-2)*v*w + sig*tau) *  IfPos(n_t,1,0)*spacelike * ds(skeleton=True)\n",
    "#dirichlet boundary 'timelike'\n",
    "a += ( sig*n_x*w + alpha*v*w ) * timelike *   ds(skeleton=True)\n",
    "\n",
    "f = LinearForm(fes)\n",
    "f += ( pow(c,-2)*v_ex*w + sig_ex*tau ) * IfPos(n_t,0,1)*spacelike *  ds(skeleton=True) \n",
    "f += ( gD * (alpha*w - tau*n_x) ) * timelike *   ds(skeleton=True) \n",
    "\n",
    "with TaskManager():\n",
    "    a.Assemble()\n",
    "    f.Assemble()\n"
   ]
  },
  {
   "cell_type": "code",
   "execution_count": null,
   "id": "c162bc05",
   "metadata": {},
   "outputs": [],
   "source": [
    "dtsig = CoefficientFunction(tuple([grad(vsig[i])[D] for i in range(D)]))\n",
    "gsig = sum([grad(vsig[i])[i] for i in range(D)])\n",
    "dtv =grad(vsig[D])[D]\n",
    "gv=CoefficientFunction(tuple([grad(vsig[D])[i] for i in range(D)]))\n",
    "dttau = CoefficientFunction(tuple([grad(wtau[i])[D] for i in range(D)]))\n",
    "gtau = sum([grad(wtau[i])[i] for i in range(D)])\n",
    "dtw =grad(wtau[D])[D]\n",
    "gw=CoefficientFunction(tuple([grad(wtau[D])[i] for i in range(D)]))\n",
    "op = ( (dtsig+gv)*(dttau+gw)+(dtv+gsig)*(dtw+gtau) )*dx\n",
    "\n",
    "eps=10**-12\n",
    "with TaskManager():\n",
    "    PP = TrefftzEmbedding(op,fes,eps)\n",
    "PPT = PP.CreateTranspose()\n",
    "with TaskManager():\n",
    "    TA = PPT@a.mat@PP\n",
    "    TU = TA.Inverse()*(PPT*f.vec)\n",
    "    tgfu = GridFunction(fes)\n",
    "    tgfu.vec.data = PP*TU\n",
    "    \n",
    "error = Integrate((CF(tgfu.components)-CoefficientFunction((sig_ex,v_ex)))**2,mesh)\n",
    "print(error)"
   ]
  }
 ],
 "metadata": {
  "kernelspec": {
   "display_name": "Python 3 (ipykernel)",
   "language": "python",
   "name": "python3"
  },
  "language_info": {
   "codemirror_mode": {
    "name": "ipython",
    "version": 3
   },
   "file_extension": ".py",
   "mimetype": "text/x-python",
   "name": "python",
   "nbconvert_exporter": "python",
   "pygments_lexer": "ipython3",
   "version": "3.11.3"
  }
 },
 "nbformat": 4,
 "nbformat_minor": 5
}
