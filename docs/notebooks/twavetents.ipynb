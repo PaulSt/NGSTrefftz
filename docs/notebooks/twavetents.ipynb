{
 "cells": [
  {
   "cell_type": "markdown",
   "id": "c4f05bfb",
   "metadata": {},
   "source": [
    "# Trefftz + Tent pitching\n",
    "Tent pitching techniques generate a space-time mesh, which complies with the\n",
    "causality properties of the hyperbolic PDE. The resulting mesh consists of tent shaped objects,\n",
    " the height of rach tent is complient with the local wavespeed. The PDE can be solved explicitly in each tent and independant tents can be solves in parallel. "
   ]
  },
  {
   "cell_type": "code",
   "execution_count": null,
   "id": "00d21fa5",
   "metadata": {},
   "outputs": [],
   "source": [
    "from ngstrefftz import TWave\n",
    "from ngstents._pytents import TentSlab\n",
    "from ngsolve.TensorProductTools import *\n",
    "from netgen.occ import *\n",
    "from ngsolve import *\n",
    "from ngsolve.webgui import *"
   ]
  },
  {
   "cell_type": "markdown",
   "id": "6228a789",
   "metadata": {},
   "source": [
    "## Constructing a tent-pitched mesh\n",
    "We use [ngstents](https://github.com/jayggg/ngstents) to construct tent-pitched meshes."
   ]
  },
  {
   "cell_type": "code",
   "execution_count": null,
   "id": "e22c5213",
   "metadata": {
    "code_folding": []
   },
   "outputs": [],
   "source": [
    "def Lmesh(maxh):\n",
    "    mu = 0.4\n",
    "    mp = MeshingParameters (maxh = maxh)\n",
    "    minh = math.pow(maxh,1/mu)\n",
    "    refpoints = int(1/minh)\n",
    "    for i in range(0, refpoints+1):\n",
    "        for j in range(0, refpoints+1):\n",
    "            xk = (i/refpoints-0.5)*2\n",
    "            yk = (j/refpoints-0.5)*2\n",
    "            r = sqrt(xk*xk+yk*yk)\n",
    "            mp.RestrictH (x=xk, y=yk, z=0, h=max(minh, maxh*math.pow(r,1-mu)) )\n",
    "    \n",
    "    wp = WorkPlane()\n",
    "    wp.MoveTo(-1,-1).LineTo(0,-1).LineTo(0,0).LineTo(1,0).LineTo(1,1).LineTo(-1,1).Close()\n",
    "    geo = wp.Face()\n",
    "    geo = OCCGeometry(geo,dim=2)\n",
    "\n",
    "    return Mesh(geo.GenerateMesh(mp=mp))\n",
    "\n",
    "maxh = 0.13\n",
    "mesh = Lmesh(maxh)\n",
    "Draw(mesh)"
   ]
  },
  {
   "cell_type": "code",
   "execution_count": null,
   "id": "5cd37f4a",
   "metadata": {},
   "outputs": [],
   "source": [
    "dt = 0.05   # tent slab height (in time)\n",
    "wavespeed = 1\n",
    "ts = TentSlab(mesh, method=\"edge\")\n",
    "ts.SetMaxWavespeed(wavespeed)\n",
    "ts.PitchTents(dt=dt, local_ct=True)\n",
    "print(\"max slope\", ts.MaxSlope())\n",
    "print(\"n tents\", ts.GetNTents())"
   ]
  },
  {
   "cell_type": "markdown",
   "id": "6bcbc7a4",
   "metadata": {},
   "source": [
    "## Trefftz-DG for the acoustic wave equation + Tents"
   ]
  },
  {
   "cell_type": "code",
   "execution_count": null,
   "id": "d9ab2488",
   "metadata": {},
   "outputs": [],
   "source": [
    "for i in range(0,len(mesh.GetBoundaries())):\n",
    "    mesh.ngmesh.SetBCName(i,\"neumann\")\n",
    "\n",
    "order=4\n",
    "delta = 500\n",
    "ee = exp(-(x+1)**2*delta )\n",
    "initc=((ee,-2*(x+1)*delta * ee, 0, 0))\n",
    "bdd = CoefficientFunction(( 0,0,0,0))\n",
    "\n",
    "TT=TWave(order,ts,CoefficientFunction(wavespeed))\n",
    "TT.SetInitial(initc)\n",
    "TT.SetBoundaryCF(bdd)\n",
    "\n",
    "V = L2(mesh,order=order)\n",
    "u = GridFunction(V,\"u\")\n",
    "gfshow = GridFunction(V, multidim=0)\n",
    "t=0\n",
    "SetNumThreads(4)\n",
    "with TaskManager():\n",
    "    while t < 1.5:\n",
    "        TT.Propagate()\n",
    "        t += dt\n",
    "        TT.GetWave(u)\n",
    "        gfshow.AddMultiDimComponent(u.vec)\n",
    "Draw (gfshow,mesh,interpolate_multidim=True,deformation=True,animate=True,autoscale=False,min=0,max=0.3)"
   ]
  },
  {
   "cell_type": "markdown",
   "id": "aa2a37ce",
   "metadata": {},
   "source": [
    "## Quasi-Trefftz + Tents \n",
    "if a non-constant coefficient function as wavespeed is passed to $\\texttt{TWave}$ the quasi-Trefftz method will be used, see also the [notebook on the quasi-Treffty method](qtwave.ipynb)."
   ]
  },
  {
   "cell_type": "code",
   "execution_count": null,
   "id": "58c7ff9a",
   "metadata": {},
   "outputs": [],
   "source": [
    "order = 4\n",
    "delta=500\n",
    "dt=0.02\n",
    "ee = exp(-(x)**2*delta )\n",
    "initc=((ee,-2*(x)*delta * ee, 0, 0))\n",
    "bdd = CoefficientFunction(( 0,0,0,0))\n",
    "mesh = Mesh(unit_square.GenerateMesh(maxh = 0.05))\n",
    "for i in range(0,len(mesh.GetBoundaries())):\n",
    "    mesh.ngmesh.SetBCName(i,\"neumann\")\n",
    "    \n",
    "ts = TentSlab(mesh, method=\"edge\")\n",
    "ts.SetMaxWavespeed(y+1)\n",
    "ts.PitchTents(dt=dt, local_ct=True)\n",
    "TT=TWave(order,ts,CoefficientFunction(y+1))\n",
    "TT.SetInitial(initc)\n",
    "TT.SetBoundaryCF(bdd)\n",
    "\n",
    "V = L2(mesh,order=order)\n",
    "u = GridFunction(V,\"u\")\n",
    "gfshow = GridFunction(V, multidim=0)\n",
    "t=0\n",
    "SetNumThreads(4)\n",
    "with TaskManager():\n",
    "    while t < 0.8:\n",
    "        TT.Propagate()\n",
    "        t += dt\n",
    "        TT.GetWave(u)\n",
    "        gfshow.AddMultiDimComponent(u.vec)\n",
    "Draw (gfshow,mesh,interpolate_multidim=True,deformation=True,animate=True,autoscale=False,min=0,max=0.3)"
   ]
  }
 ],
 "metadata": {
  "kernelspec": {
   "display_name": "Python 3 (ipykernel)",
   "language": "python",
   "name": "python3"
  },
  "language_info": {
   "codemirror_mode": {
    "name": "ipython",
    "version": 3
   },
   "file_extension": ".py",
   "mimetype": "text/x-python",
   "name": "python",
   "nbconvert_exporter": "python",
   "pygments_lexer": "ipython3",
   "version": "3.11.3"
  }
 },
 "nbformat": 4,
 "nbformat_minor": 5
}
