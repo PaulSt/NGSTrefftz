{
 "cells": [
  {
   "cell_type": "code",
   "execution_count": null,
   "id": "00d21fa5",
   "metadata": {},
   "outputs": [],
   "source": [
    "from ngstents._pytents import TentSlab\n",
    "from ngstrefftz import TWave\n",
    "from ngsolve.TensorProductTools import *\n",
    "from netgen.geom2d import unit_square\n",
    "from ngsolve import *\n",
    "from ngsolve.webgui import Draw\n",
    "import time"
   ]
  },
  {
   "cell_type": "markdown",
   "id": "c4f05bfb",
   "metadata": {},
   "source": [
    "# Trefftz + tent pitching"
   ]
  },
  {
   "cell_type": "markdown",
   "id": "6228a789",
   "metadata": {},
   "source": [
    "## Constructing a tent-pitched mesh"
   ]
  },
  {
   "cell_type": "code",
   "execution_count": null,
   "id": "e22c5213",
   "metadata": {
    "code_folding": [
     1
    ]
   },
   "outputs": [],
   "source": [
    "import netgen.geom2d as ngeom2d\n",
    "def Lmesh(maxh):\n",
    "    mu = 0.4\n",
    "    mp = MeshingParameters (maxh = maxh)\n",
    "    minh = math.pow(maxh,1/mu)\n",
    "    refpoints = int(1/minh)\n",
    "    for i in range(0, refpoints+1):\n",
    "        for j in range(0, refpoints+1):\n",
    "            xk = (i/refpoints-0.5)*2\n",
    "            yk = (j/refpoints-0.5)*2\n",
    "            r = sqrt(xk*xk+yk*yk)\n",
    "            mp.RestrictH (x=xk, y=yk, z=0, h=max(minh, maxh*math.pow(r,1-mu)) )\n",
    "\n",
    "    geo = ngeom2d.SplineGeometry()\n",
    "    p1 = geo.AppendPoint (-1,-1)\n",
    "    p2 = geo.AppendPoint (0,-1)\n",
    "    p3 = geo.AppendPoint (0,0)\n",
    "    p4 = geo.AppendPoint (1,0)\n",
    "    p5 = geo.AppendPoint (1,1)\n",
    "    p6 = geo.AppendPoint (-1,1)\n",
    "    geo.Append ([\"line\", p1, p2])\n",
    "    geo.Append ([\"line\", p2, p3])\n",
    "    geo.Append ([\"line\", p3, p4])\n",
    "    geo.Append ([\"line\", p4, p5])\n",
    "    geo.Append ([\"line\", p5, p6])\n",
    "    geo.Append ([\"line\", p6, p1])\n",
    "\n",
    "    return Mesh(geo.GenerateMesh(mp=mp))\n",
    "\n",
    "maxh = 0.13\n",
    "mesh = Lmesh(maxh)\n",
    "Draw(mesh)"
   ]
  },
  {
   "cell_type": "code",
   "execution_count": null,
   "id": "5cd37f4a",
   "metadata": {},
   "outputs": [],
   "source": [
    "import tentswebgui as twg\n",
    "dt = 0.05   # tent slab height (in time)\n",
    "wavespeed = 1\n",
    "ts = TentSlab(mesh, method=\"edge\")\n",
    "ts.SetMaxWavespeed(wavespeed)\n",
    "ts.PitchTents(dt=dt, local_ct=True)\n",
    "print(\"max slope\", ts.MaxSlope())\n",
    "print(\"n tents\", ts.GetNTents())\n",
    "twg.Draw(ts)"
   ]
  },
  {
   "cell_type": "markdown",
   "id": "6bcbc7a4",
   "metadata": {},
   "source": [
    "## Trefftz-DG for the acoustic wave equation + Tents"
   ]
  },
  {
   "cell_type": "code",
   "execution_count": null,
   "id": "d9ab2488",
   "metadata": {},
   "outputs": [],
   "source": [
    "for i in range(0,len(mesh.GetBoundaries())):\n",
    "    mesh.ngmesh.SetBCName(i,\"neumann\")\n",
    "\n",
    "order=4\n",
    "delta = 500\n",
    "ee = exp(-(x+1)**2*delta )\n",
    "initc=((ee,-2*(x+1)*delta * ee, 0, 0))\n",
    "bdd = CoefficientFunction(( 0,0,0,0))\n",
    "\n",
    "TT=TWave(order,ts,CoefficientFunction(wavespeed))\n",
    "TT.SetInitial(initc)\n",
    "TT.SetBoundaryCF(bdd)\n",
    "\n",
    "V = L2(mesh,order=order)\n",
    "u = GridFunction(V,\"u\")\n",
    "scene = Draw(u,autoscale=False,min=0,max=0.3)#,deformation=True\n",
    "t=0\n",
    "SetNumThreads(4)\n",
    "with TaskManager():\n",
    "    while t < 1.5:\n",
    "        TT.Propagate()\n",
    "        t += dt\n",
    "        TT.GetWave(u)\n",
    "        scene.Redraw()"
   ]
  },
  {
   "cell_type": "markdown",
   "id": "aa2a37ce",
   "metadata": {},
   "source": [
    "## Quasi-Trefftz + Tents "
   ]
  },
  {
   "cell_type": "code",
   "execution_count": null,
   "id": "58c7ff9a",
   "metadata": {},
   "outputs": [],
   "source": [
    "order = 4\n",
    "delta=500\n",
    "dt=0.05\n",
    "ee = exp(-(x)**2*delta )\n",
    "initc=((ee,-2*(x)*delta * ee, 0, 0))\n",
    "bdd = CoefficientFunction(( 0,0,0,0))\n",
    "mesh = Mesh(unit_square.GenerateMesh(maxh = 0.05))\n",
    "for i in range(0,len(mesh.GetBoundaries())):\n",
    "    mesh.ngmesh.SetBCName(i,\"neumann\")\n",
    "    \n",
    "ts = TentSlab(mesh, method=\"edge\")\n",
    "ts.SetMaxWavespeed(y+1)\n",
    "ts.PitchTents(dt=dt, local_ct=True)\n",
    "TT=TWave(order,ts,CoefficientFunction(y+1))\n",
    "TT.SetInitial(initc)\n",
    "TT.SetBoundaryCF(bdd)\n",
    "\n",
    "V = L2(mesh,order=order)\n",
    "u = GridFunction(V,\"u\")\n",
    "scene = Draw(u,autoscale=False,min=0,max=0.3)#,deformation=True\n",
    "t=0\n",
    "SetNumThreads(4)\n",
    "with TaskManager():\n",
    "    while t < 0.5:\n",
    "        TT.Propagate()\n",
    "        t += dt\n",
    "        TT.GetWave(u)\n",
    "        scene.Redraw()"
   ]
  }
 ],
 "metadata": {
  "kernelspec": {
   "display_name": "Python 3 (ipykernel)",
   "language": "python",
   "name": "python3"
  },
  "language_info": {
   "codemirror_mode": {
    "name": "ipython",
    "version": 3
   },
   "file_extension": ".py",
   "mimetype": "text/x-python",
   "name": "python",
   "nbconvert_exporter": "python",
   "pygments_lexer": "ipython3",
   "version": "3.10.2"
  }
 },
 "nbformat": 4,
 "nbformat_minor": 5
}
