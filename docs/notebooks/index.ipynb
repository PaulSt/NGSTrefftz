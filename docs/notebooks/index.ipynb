{
 "cells": [
  {
   "cell_type": "markdown",
   "id": "3dcd70e8",
   "metadata": {},
   "source": [
    "# NGSTrefftz Notebooks"
   ]
  },
  {
   "cell_type": "markdown",
   "id": "9179412c",
   "metadata": {},
   "source": [
    "We present the implementation of Trefftz discontinuous Galerkin (DG) methods."
   ]
  },
  {
   "cell_type": "markdown",
   "id": "3f5c8efb",
   "metadata": {},
   "source": [
    "### Trefftz-DG methods\n",
    "1. [Notebook](laplace.ipynb) introduces the Trefftz space in NGSolve alongside a Trefftz-DG method using harmonic polynomials to solve the Laplace problem.\n",
    "2. [Notebook](helmholtz.ipynb) presents plane waves for the Helmholtz equation.\n",
    "3. [Notebook](twave.ipynb) presents the space-time DG Trefftz method for the acoustic wave equation on meshes Cartesian in time.\n",
    "4. [Notebook](tunfitted.ipynb) presents the Trefftz method on unfitted geometries using ngsxfem.\n",
    "\n",
    "### Advanced Trefftz methods for the acoustic wave equation\n",
    "\n",
    "5. [Notebook](qtwave.ipynb) presents quasi-Trefftz functions that are used for the wave equation with piecewise-smooth wavespeed.\n",
    "6. [Notebook](twavetents.ipynb) shows how to use the Trefftz and quasi-Trefftz methods with tent-pitched meshes.\n",
    "\n",
    "### Embedded Trefftz methods\n",
    "7. [Notebook](embTrefftz.ipynb) presents the embedded Trefftz method\n",
    "8. [Notebook](embTrefftz-poi.ipynb) for inhomogeneous problems\n",
    "9. [Notebook](embTrefftz-helm.ipynb) for the Helmholtz problem\n",
    "10. [Notebook](embTrefftz-wave.ipynb) for the acoustic wave equation\n",
    "11. [Notebook](embTrefftz-adv.ipynb) for advection\n",
    "12. [Notebook](embTrefftz-stokes.ipynb) for the Stokes problem"
   ]
  }
 ],
 "metadata": {
  "kernelspec": {
   "display_name": "Python 3 (ipykernel)",
   "language": "python",
   "name": "python3"
  },
  "language_info": {
   "codemirror_mode": {
    "name": "ipython",
    "version": 3
   },
   "file_extension": ".py",
   "mimetype": "text/x-python",
   "name": "python",
   "nbconvert_exporter": "python",
   "pygments_lexer": "ipython3",
   "version": "3.11.3"
  }
 },
 "nbformat": 4,
 "nbformat_minor": 5
}
