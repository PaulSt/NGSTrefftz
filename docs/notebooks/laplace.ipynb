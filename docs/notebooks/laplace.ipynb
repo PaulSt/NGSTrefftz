{
 "cells": [
  {
   "cell_type": "markdown",
   "id": "694cb183",
   "metadata": {},
   "source": [
    "# Laplace\n",
    "We are looking to solve \n",
    "\n",
    "$$\n",
    "\\begin{align*} \\begin{split}\n",
    "    \\begin{cases}\n",
    "    -\\Delta u = 0 &\\text{ in } \\Omega, \\\\\n",
    "    u=g &\\text{ on } \\partial \\Omega,\n",
    "    \\end{cases}\n",
    "\\end{split} \\end{align*}\n",
    "$$\n",
    "\n",
    "using a Trefftz-DG formulation"
   ]
  },
  {
   "cell_type": "code",
   "execution_count": null,
   "id": "f9bdca3d",
   "metadata": {},
   "outputs": [],
   "source": [
    "from ngsolve import *\n",
    "from ngstrefftz import *\n",
    "from netgen.occ import *"
   ]
  },
  {
   "cell_type": "markdown",
   "id": "574ed475",
   "metadata": {},
   "source": [
    "### Constructing a Trefftz space"
   ]
  },
  {
   "cell_type": "markdown",
   "id": "2638b80f",
   "metadata": {},
   "source": [
    "A Trefftz space for the Laplace problem is given by the harmonic functions that locally fulfil\n",
    "\n",
    "$$\n",
    "\\begin{align*} \\begin{split}\n",
    "\\mathbb{T}^p(K):=\\big\\{\n",
    "f\\in\\mathbb{P}^p(K) \\mid \\Delta f = 0\n",
    "\\big\\},\n",
    "\\qquad p\\in \\mathbb{N}.\n",
    "\\end{split} \\end{align*}\n",
    "$$\n",
    "\n",
    "We can construct it in NGSolve like so:"
   ]
  },
  {
   "cell_type": "code",
   "execution_count": null,
   "id": "70972e37",
   "metadata": {},
   "outputs": [],
   "source": [
    "mesh = Mesh(unit_square.GenerateMesh(maxh=.3))\n",
    "fes = trefftzfespace(mesh,order=7,eq=\"laplace\")"
   ]
  },
  {
   "cell_type": "markdown",
   "id": "47925215",
   "metadata": {},
   "source": [
    "Using the eq key word one needs to tell the Trefftz space the operator for which to construct Trefftz functions. \n",
    "\n",
    "To get an overview on the implemented Trefftz functions see"
   ]
  },
  {
   "cell_type": "code",
   "execution_count": null,
   "id": "5cb56d5b",
   "metadata": {},
   "outputs": [],
   "source": [
    "trefftzfespace?"
   ]
  },
  {
   "cell_type": "markdown",
   "id": "e61b7c8b",
   "metadata": {},
   "source": [
    "We will test against an exact solution given by"
   ]
  },
  {
   "cell_type": "code",
   "execution_count": null,
   "id": "f824215b",
   "metadata": {},
   "outputs": [],
   "source": [
    "exact = exp(x)*sin(y)\n",
    "bndc = exact"
   ]
  },
  {
   "cell_type": "markdown",
   "id": "e33b3abd",
   "metadata": {},
   "source": [
    "A suiteable DG method is given by\n",
    "\n",
    "$$\n",
    "\\newcommand{\\Th}{{\\mathcal{T}_h}} \n",
    "\\newcommand{\\Fh}{\\mathcal{F}_h} \n",
    "\\newcommand{\\dom}{\\Omega} \n",
    "\\newcommand{\\jump}[1]{[\\![ #1 ]\\!]}\n",
    "\\newcommand{\\tjump}[1]{[\\![{#1} ]\\!]_\\tau}\n",
    "\\newcommand{\\avg}[1]{\\{\\!\\!\\{#1\\}\\!\\!\\}}\n",
    "\\newcommand{\\nx}{n_\\mathbf{x}} \n",
    "\\begin{align}\\label{eq:dglap}\n",
    "    \\begin{split}\n",
    "    a_h(u,v) &= \\int_\\dom \\nabla u\\nabla v\\ dV\n",
    "    -\\int_{\\Fh^\\text{int}}\\left(\\avg{\\nabla u}\\jump{v}+\\avg{\\nabla v}\\jump{u} \n",
    "    - \\frac{\\alpha p^2}{h}\\jump{u}\\jump{v} \\right) dS \\\\\n",
    "           &\\qquad -\\int_{\\Fh^\\text{bnd}}\\left(\\nx\\cdot\\nabla u v+\\nx\\cdot\\nabla v u-\\frac{\\alpha p^2}{h} u v \\right) dS\\\\\n",
    "    \\ell(v) &= \\int_{\\Fh^\\text{bnd}}\\left(\\frac{\\alpha p^2}{h} gv -\\nx\\cdot\\nabla vg\\right) dS.\n",
    "    \\end{split}\n",
    "\\end{align}\n",
    "$$"
   ]
  },
  {
   "cell_type": "code",
   "execution_count": null,
   "id": "69d34332",
   "metadata": {},
   "outputs": [],
   "source": [
    "def dglap(fes,bndc):\n",
    "    mesh = fes.mesh\n",
    "    order = fes.globalorder\n",
    "    alpha = 4\n",
    "    n = specialcf.normal(mesh.dim)\n",
    "    h = specialcf.mesh_size\n",
    "    u = fes.TrialFunction()\n",
    "    v = fes.TestFunction()\n",
    "\n",
    "    jump_u = (u-u.Other())*n\n",
    "    jump_v = (v-v.Other())*n\n",
    "    mean_dudn = 0.5 * (grad(u)+grad(u.Other()))\n",
    "    mean_dvdn = 0.5 * (grad(v)+grad(v.Other()))\n",
    "\n",
    "    a = BilinearForm(fes,symmetric=True)\n",
    "    a += grad(u)*grad(v) * dx \\\n",
    "        +alpha*order**2/h*jump_u*jump_v * dx(skeleton=True) \\\n",
    "        +(-mean_dudn*jump_v-mean_dvdn*jump_u) * dx(skeleton=True) \\\n",
    "        +alpha*order**2/h*u*v * ds(skeleton=True) \\\n",
    "        +(-n*grad(u)*v-n*grad(v)*u)* ds(skeleton=True)\n",
    "\n",
    "    f = LinearForm(fes)\n",
    "    f += alpha*order**2/h*bndc*v * ds(skeleton=True) \\\n",
    "         +(-n*grad(v)*bndc)* ds(skeleton=True)\n",
    "\n",
    "    with TaskManager():\n",
    "        a.Assemble()\n",
    "        f.Assemble()\n",
    "    return a,f"
   ]
  },
  {
   "cell_type": "code",
   "execution_count": null,
   "id": "4083c35e",
   "metadata": {},
   "outputs": [],
   "source": [
    "a,f = dglap(fes,bndc)\n",
    "gfu = GridFunction(fes)\n",
    "with TaskManager():\n",
    "    gfu.vec.data = a.mat.Inverse(inverse='sparsecholesky') * f.vec\n",
    "error = sqrt(Integrate((gfu-exact)**2, mesh))\n",
    "print(\"trefftz\",error)"
   ]
  },
  {
   "cell_type": "code",
   "execution_count": null,
   "id": "6ed7e588",
   "metadata": {},
   "outputs": [],
   "source": [
    "from ngsolve.webgui import Draw\n",
    "Draw(gfu)"
   ]
  },
  {
   "cell_type": "markdown",
   "id": "5af3432f",
   "metadata": {},
   "source": [
    "### Comparison of the sparsity pattern \n",
    "We compare the sparsity pattern to the one of the full polynomial $\\texttt{L2}$ space "
   ]
  },
  {
   "cell_type": "code",
   "execution_count": null,
   "id": "db71d07a",
   "metadata": {},
   "outputs": [],
   "source": [
    "import scipy.sparse as sp\n",
    "import numpy as np\n",
    "import matplotlib.pylab as plt\n",
    "a2,_ = dglap(L2(mesh,order=7,dgjumps=True),bndc)\n",
    "\n",
    "A1 = sp.csr_matrix(a.mat.CSR())\n",
    "A2 = sp.csr_matrix(a2.mat.CSR())\n",
    "fig = plt.figure(); ax1 = fig.add_subplot(121); ax2 = fig.add_subplot(122)\n",
    "ax1.set_xlabel(\"Trefftz=True\"); ax1.spy(A1,markersize=1); ax1.set(ylim=(a2.mat.height,0),xlim=(0,a2.mat.width))\n",
    "ax2.set_xlabel(\"Trefftz=False\"); ax2.spy(A2,markersize=1)"
   ]
  }
 ],
 "metadata": {
  "kernelspec": {
   "display_name": "Python 3 (ipykernel)",
   "language": "python",
   "name": "python3"
  },
  "language_info": {
   "codemirror_mode": {
    "name": "ipython",
    "version": 3
   },
   "file_extension": ".py",
   "mimetype": "text/x-python",
   "name": "python",
   "nbconvert_exporter": "python",
   "pygments_lexer": "ipython3",
   "version": "3.11.3"
  }
 },
 "nbformat": 4,
 "nbformat_minor": 5
}
