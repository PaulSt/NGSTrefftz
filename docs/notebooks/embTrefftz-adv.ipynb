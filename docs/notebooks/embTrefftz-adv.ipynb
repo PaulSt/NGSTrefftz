{
 "cells": [
  {
   "cell_type": "markdown",
   "id": "87fc3ae3",
   "metadata": {},
   "source": [
    "# Embedded Trefftz-DG: Advection\n",
    "In this section we finally consider an example that is typically not related to Trefftz method: A scalar linear transport problem, the advection equation. It reads as\n",
    "\n",
    "$$\n",
    "\\newcommand{\\Th}{{\\mathcal{T}_h}} \n",
    "\\newcommand{\\Fh}{\\mathcal{F}_h} \n",
    "\\newcommand{\\dom}{\\Omega} \n",
    "\\newcommand{\\jump}[1]{[\\![ #1 ]\\!]}\n",
    "\\newcommand{\\tjump}[1]{[\\![{#1} ]\\!]_\\tau}\n",
    "\\newcommand{\\avg}[1]{\\{\\!\\!\\{#1\\}\\!\\!\\}}\n",
    "\\newcommand{\\nx}{n_\\mathbf{x}} \n",
    "\\newcommand{\\Vhp}{V^p(\\Th)}\n",
    "\\newcommand{\\bT}{\\mathbf{T}}\n",
    "\\newcommand{\\bW}{\\mathbf{W}}\n",
    "\\newcommand{\\bw}{\\mathbf{w}}\n",
    "\\newcommand{\\bl}{\\mathbf{l}}\n",
    "\\newcommand{\\bM}{\\mathbf{M}}\n",
    "\\newcommand{\\bL}{\\mathbf{L}}\n",
    "\\newcommand{\\bA}{\\mathbf{A}}\n",
    "\\newcommand{\\bU}{\\mathbf{U}}\n",
    "\\newcommand{\\bV}{\\mathbf{V}}\n",
    "\\newcommand{\\calL}{\\mathcal{L}}\n",
    "\\newcommand{\\bu}{\\mathbf{u}}\n",
    "\\newcommand{\\IT}{\\mathbb{T}}\n",
    "\\newcommand{\\calG}{\\mathcal{G}}\n",
    "\\newcommand{\\be}{\\mathbf{e}}\n",
    "\\newcommand{\\bx}{{\\mathbf x}}\n",
    "\\newcommand{\\inner}[1]{\\langle #1 \\rangle}\n",
    "\\newcommand{\\bb}{\\mathbf{b}}\n",
    "\\begin{align*}\n",
    "   \\bb\\cdot\\nabla  u &= f\\quad \\text{ in } \\Omega,\\\\  \n",
    "    u &= u_D \\quad \\text{ on }  \\partial \\Omega_{\\text{in}} :=\\{\\bx\\in\\partial \\Omega\\mid \\bb\\cdot\\nx < 0\\}.\n",
    "\\end{align*} \n",
    "$$\n",
    "\n",
    "for a given velocity field $\\bb$ which we assume to be divergence-free. \n",
    "\n",
    "As underlying DG discretization we choose the standard Upwind DG formulation which reads as\n",
    "\n",
    "$$ \n",
    "\\begin{align}\n",
    "    a_h(u,v) &= \\sum_{K\\in\\Th} \\Big\\{  \\int_K  - u ~ \\bb\\cdot \\nabla v\\ dV +\\int_{\\partial K\\setminus {\\partial \\Omega}{\\text{in}} } \\bb\\cdot\\nx\\hat{u} v~  dS   \\Big\\}  \\\\ \n",
    "    \\ell(v) &= \\sum_{K\\in\\Th} \\int_K  f v\\ dV -\n",
    "    \\int_{{\\partial \\Omega}{\\text{in}}} \\bb \\cdot \\nx u_D v~ dS\n",
    "\\end{align}\n",
    "$$ \n"
   ]
  },
  {
   "cell_type": "code",
   "execution_count": null,
   "id": "03e59e9e",
   "metadata": {},
   "outputs": [],
   "source": [
    "from ngsolve import *\n",
    "from ngstrefftz import *\n",
    "from netgen.occ import *"
   ]
  },
  {
   "cell_type": "code",
   "execution_count": null,
   "id": "e182a3ef",
   "metadata": {},
   "outputs": [],
   "source": [
    "b = CF((-sin(y),cos(x)))\n",
    "exact = sin(3*x)*sin(3*y)\n",
    "rhs = b*CF((exact.Diff(x),exact.Diff(y)))\n",
    "\n",
    "mesh = Mesh(unit_square.GenerateMesh(maxh=0.1))\n",
    "fes = L2(mesh, order=4,  dgjumps=True)\n",
    "u,v = fes.TnT()"
   ]
  },
  {
   "cell_type": "code",
   "execution_count": null,
   "id": "e55767fc",
   "metadata": {},
   "outputs": [],
   "source": [
    "bndc=exact\n",
    "n = specialcf.normal(mesh.dim)\n",
    "h = specialcf.mesh_size\n",
    "\n",
    "jump_u = (u-u.Other())*n\n",
    "jump_v = (v-v.Other())*n\n",
    "\n",
    "a = BilinearForm(fes,symmetric=False)\n",
    "a += - u * b * grad(v) * dx\n",
    "a += b*n*IfPos(b*n,u,u.Other())*v*dx(element_boundary=True)\n",
    "\n",
    "f = LinearForm(fes)\n",
    "f += rhs*v * dx \\\n",
    "     - b*n*IfPos(b*n,0,bndc)*v * ds(skeleton=True)\n",
    "with TaskManager():\n",
    "    a.Assemble()\n",
    "    f.Assemble()\n"
   ]
  },
  {
   "cell_type": "code",
   "execution_count": null,
   "id": "939d9ed8",
   "metadata": {},
   "outputs": [],
   "source": [
    "eps = 10**-8\n",
    "op = b*grad(u) * grad(v)[0]*dx\n",
    "lop = rhs*grad(v)[0]*dx\n",
    "\n",
    "with TaskManager():\n",
    "    PP,uf = TrefftzEmbedding(op,fes,lop,eps)\n",
    "PPT = PP.CreateTranspose()\n",
    "with TaskManager():\n",
    "    TA = PPT@a.mat@PP\n",
    "    Tgfu = TA.Inverse()*(PPT*(f.vec-a.mat*uf))\n",
    "    gfu = GridFunction(fes)\n",
    "    gfu.vec.data = PP*Tgfu + uf\n",
    "error = sqrt(Integrate((gfu-exact)**2, mesh))\n",
    "print(\"svdt error : {:13.8e}\".format(error))"
   ]
  },
  {
   "cell_type": "code",
   "execution_count": null,
   "id": "932287b0",
   "metadata": {},
   "outputs": [],
   "source": [
    "from ngsolve.webgui import Draw\n",
    "Draw(gfu)"
   ]
  }
 ],
 "metadata": {
  "kernelspec": {
   "display_name": "Python 3 (ipykernel)",
   "language": "python",
   "name": "python3"
  },
  "language_info": {
   "codemirror_mode": {
    "name": "ipython",
    "version": 3
   },
   "file_extension": ".py",
   "mimetype": "text/x-python",
   "name": "python",
   "nbconvert_exporter": "python",
   "pygments_lexer": "ipython3",
   "version": "3.11.3"
  }
 },
 "nbformat": 4,
 "nbformat_minor": 5
}
