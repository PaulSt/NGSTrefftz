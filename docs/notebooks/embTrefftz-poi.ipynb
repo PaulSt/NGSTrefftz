{
 "cells": [
  {
   "cell_type": "markdown",
   "id": "0514a4c5",
   "metadata": {},
   "source": [
    "# Embedded Trefftz-DG: Poisson \n"
   ]
  },
  {
   "cell_type": "code",
   "execution_count": null,
   "id": "c2c9259a",
   "metadata": {},
   "outputs": [],
   "source": [
    "from ngsolve import *\n",
    "from ngstrefftz import *\n",
    "from netgen.occ import *\n",
    "SetNumThreads(4)"
   ]
  },
  {
   "cell_type": "markdown",
   "id": "c1f05d62",
   "metadata": {},
   "source": [
    "We consider the Poisson equation with Dirichlet boundary conditions.\n",
    "\n",
    "$$\n",
    "\\newcommand{\\Th}{{\\mathcal{T}_h}} \n",
    "\\newcommand{\\Fh}{\\mathcal{F}_h} \n",
    "\\newcommand{\\dom}{\\Omega} \n",
    "\\newcommand{\\jump}[1]{[\\![ #1 ]\\!]}\n",
    "\\newcommand{\\tjump}[1]{[\\![{#1} ]\\!]_\\tau}\n",
    "\\newcommand{\\avg}[1]{\\{\\!\\!\\{#1\\}\\!\\!\\}}\n",
    "\\newcommand{\\nx}{n_\\mathbf{x}} \n",
    "\\newcommand{\\Vhp}{V^p(\\Th)}\n",
    "\\newcommand{\\bT}{\\mathbf{T}}\n",
    "\\newcommand{\\bW}{\\mathbf{W}}\n",
    "\\newcommand{\\bw}{\\mathbf{w}}\n",
    "\\newcommand{\\bl}{\\mathbf{l}}\n",
    "\\newcommand{\\bM}{\\mathbf{M}}\n",
    "\\newcommand{\\bL}{\\mathbf{L}}\n",
    "\\newcommand{\\bA}{\\mathbf{A}}\n",
    "\\newcommand{\\bU}{\\mathbf{U}}\n",
    "\\newcommand{\\bV}{\\mathbf{V}}\n",
    "\\newcommand{\\calL}{\\mathcal{L}}\n",
    "\\newcommand{\\bu}{\\mathbf{u}}\n",
    "\\newcommand{\\IT}{\\mathbb{T}}\n",
    "\\newcommand{\\calG}{\\mathcal{G}}\n",
    "\\newcommand{\\be}{\\mathbf{e}}\n",
    "\\newcommand{\\bx}{{\\mathbf x}}\n",
    "\\newcommand{\\inner}[1]{\\langle #1 \\rangle}\n",
    "\\DeclareMathOperator\\Ker{ker}\n",
    "\\begin{align*}\n",
    "    \\begin{cases}\n",
    "    \\Delta u = f &\\text{ in } \\dom, \\\\\n",
    "    u=g &\\text{ on } \\partial \\dom.\n",
    "    \\end{cases}\n",
    "\\end{align*}\n",
    "$$\n",
    "\n",
    "We consider again the SIP-DG method"
   ]
  },
  {
   "cell_type": "code",
   "execution_count": null,
   "id": "e61b1bf6",
   "metadata": {},
   "outputs": [],
   "source": [
    "mesh = Mesh(unit_cube.GenerateMesh(maxh=.2))\n",
    "order = 4\n",
    "fes = L2(mesh, order=order,  dgjumps=True)"
   ]
  },
  {
   "cell_type": "code",
   "execution_count": null,
   "id": "ff91edb0",
   "metadata": {},
   "outputs": [],
   "source": [
    "exact = sin(x)*sin(y)*sin(z)\n",
    "rhs = 3*sin(x)*sin(y)*sin(z)\n",
    "bndc=exact\n",
    "alpha = 4\n",
    "n = specialcf.normal(mesh.dim)\n",
    "h = specialcf.mesh_size\n",
    "u = fes.TrialFunction()\n",
    "v = fes.TestFunction()\n",
    "\n",
    "jump_u = (u-u.Other())*n\n",
    "jump_v = (v-v.Other())*n\n",
    "mean_dudn = 0.5 * (grad(u)+grad(u.Other()))\n",
    "mean_dvdn = 0.5 * (grad(v)+grad(v.Other()))\n",
    "\n",
    "a = BilinearForm(fes,symmetric=True)\n",
    "a += grad(u)*grad(v) * dx \\\n",
    "    +alpha*order**2/h*jump_u*jump_v * dx(skeleton=True) \\\n",
    "    +(-mean_dudn*jump_v-mean_dvdn*jump_u) * dx(skeleton=True) \\\n",
    "    +alpha*order**2/h*u*v * ds(skeleton=True) \\\n",
    "    +(-n*grad(u)*v-n*grad(v)*u)* ds(skeleton=True)\n",
    "\n",
    "f = LinearForm(fes)\n",
    "f += rhs*v * dx \\\n",
    "     +alpha*order**2/h*bndc*v * ds(skeleton=True) \\\n",
    "     +(-n*grad(v)*bndc)* ds(skeleton=True)\n",
    "with TaskManager():\n",
    "    a.Assemble()\n",
    "    f.Assemble()"
   ]
  },
  {
   "cell_type": "markdown",
   "id": "83e7f61e",
   "metadata": {},
   "source": [
    "For $u_{h,f}$ a particular solution, we are looking for a solution $u_h\\in\\IT^p(\\Th) + u_{h,f}$ so that\n",
    "\n",
    "$$\n",
    "\\begin{equation} \\label{eq:inhom}\n",
    "    a_h(u_{h},v_{\\IT})\n",
    " =\\ell(v_{\\IT}) ~~ \\forall~ v_{\\IT}\\in\\IT^p(\\Th).\n",
    "\\end{equation}\n",
    "$$\n",
    "\n",
    "After homogenization this means that we are looking for\n",
    "$u_{\\IT}\\in\\IT^p(\\Th)$ that (uniquely) solves \n",
    "\n",
    "$$\n",
    "\\begin{equation}\n",
    "    a_h(u_{\\IT},v_{\\IT})\n",
    " =\\ell(v_{\\IT}) - a_h(u_{h,f},v_{\\IT}) ~~ \\forall~ v_{\\IT}\\in\\IT^p(\\Th).\n",
    "\\end{equation}\n",
    "$$\n",
    "\n",
    "This translates to the solution of the linear system \n",
    "\n",
    "$$\n",
    "\\begin{align}\n",
    "    \\bT^T\\bA\\bT \\bu_{\\IT}  = \\bT^T (\\bl-\\bA\\bu_f).\n",
    "\\end{align}\n",
    "$$\n",
    "\n",
    "To compute a (local) particular solution, on an element $K\\in \\mathcal{T}_h$ we assemble $(\\bw_K)_{i}=(f,\\calG(\\be_i))=(f,\\phi_i)$ and define $(\\bu_{f})_K=\\bW^\\dagger_K \\bw_K.$"
   ]
  },
  {
   "cell_type": "code",
   "execution_count": null,
   "id": "8496d16a",
   "metadata": {},
   "outputs": [],
   "source": [
    "Lap = lambda u : sum(Trace(u.Operator('hesse')))\n",
    "eps = 10**-7\n",
    "u,v = fes.TnT()\n",
    "op = Lap(u)*Lap(v)*dx\n",
    "lop = -rhs*Lap(v)*dx\n",
    "with TaskManager():\n",
    "    PP,uf = TrefftzEmbedding(op,fes,lop,eps)\n",
    "PPT = PP.CreateTranspose()\n",
    "with TaskManager():\n",
    "    TA = PPT@a.mat@PP\n",
    "    Tgfu = TA.Inverse(inverse=\"sparsecholesky\")*(PPT*(f.vec-a.mat*uf))\n",
    "    gfu = GridFunction(fes)\n",
    "    gfu.vec.data = PP*Tgfu + uf\n",
    "error = sqrt(Integrate((gfu-exact)**2, mesh))\n",
    "print(\"svdt\",error)"
   ]
  }
 ],
 "metadata": {
  "kernelspec": {
   "display_name": "Python 3 (ipykernel)",
   "language": "python",
   "name": "python3"
  },
  "language_info": {
   "codemirror_mode": {
    "name": "ipython",
    "version": 3
   },
   "file_extension": ".py",
   "mimetype": "text/x-python",
   "name": "python",
   "nbconvert_exporter": "python",
   "pygments_lexer": "ipython3",
   "version": "3.11.3"
  }
 },
 "nbformat": 4,
 "nbformat_minor": 5
}
