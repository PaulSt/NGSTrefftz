{
 "cells": [
  {
   "cell_type": "markdown",
   "id": "ab00817c",
   "metadata": {},
   "source": [
    "# Embedded Trefftz method\n",
    "\n",
    "$\\newcommand{\\Th}{\\mathcal{T}_h}\n",
    "\\newcommand{\\Vhp}{V^p(\\Th)}\n",
    "\\newcommand{\\bT}{\\mathbf{T}}\n",
    "\\newcommand{\\bW}{\\mathbf{W}}\n",
    "\\newcommand{\\bl}{\\mathbf{l}}\n",
    "\\newcommand{\\bM}{\\mathbf{M}}\n",
    "\\newcommand{\\bL}{\\mathbf{L}}\n",
    "\\newcommand{\\bA}{\\mathbf{A}}\n",
    "\\newcommand{\\bU}{\\mathbf{U}}\n",
    "\\newcommand{\\bV}{\\mathbf{V}}\n",
    "\\newcommand{\\calL}{\\mathcal{L}}\n",
    "\\newcommand{\\bu}{\\mathbf{u}}\n",
    "\\newcommand{\\IT}{\\mathbb{T}}\n",
    "\\newcommand{\\calG}{\\mathcal{G}}\n",
    "\\newcommand{\\be}{\\mathbf{e}}\n",
    "\\newcommand{\\bx}{{\\mathbf x}}\n",
    "\\newcommand{\\inner}[1]{\\langle #1 \\rangle}\n",
    "\\DeclareMathOperator\\Ker{ker}$\n",
    "\n",
    "Let $\\{\\phi_i\\}$ be the set of basis functions of $\\Vhp$, $N =\\operatorname{dim}(\\Vhp)$ and $\\calG: \\mathbb{R}^n \\to \\Vhp$ be the Galerkin isomorphism, $\\calG(\\bx) = \\sum_{i=1}^N \\bx_i \\phi_i$. With $\\be_i,~i=1,..,N$ the canonical unit vectors in $\\mathbb{R}^n$, so that $\\calG(\\be_i) = \\phi_i$, we define the following matrices and vector for $i,j = 1,\\dots, N$  \n",
    "\n",
    "$$\n",
    "\\begin{align} \n",
    "    (\\bA)_{ij}&=a_h(\\calG(\\be_j),\\calG(\\be_i))=a_h(\\phi_j,\\phi_i),\n",
    "     \\qquad \n",
    "    (\\bl)_i = \\ell(\\calG(\\be_i)) = \\ell(\\phi_i) \\\\\n",
    "    (\\bW)_{ij}&=\\inner{\\calL\\phi_j,\\calL\\phi_i}_{0,h}, \\label{def:W}\n",
    "\\end{align}\n",
    "$$\n",
    "\n",
    "where $\\inner{\\cdot,\\cdot}_{0,h}=\\sum_{K\\in\\Th}\\inner{\\cdot,\\cdot}_K$ is the element-wise $L^2$-inner product.\n",
    "We are interested in the kernel of $\\calL$ (in an element-wise and pointwise sense) in $\\Vhp$ as this is the part where the Trefftz DG method operates. We note that \n",
    "\n",
    "$$\n",
    "\\begin{equation}\n",
    "    \\Ker(\\calL) = \\calG(\\Ker(\\bW))\n",
    "\\end{equation}  \n",
    "$$\n",
    "\n",
    "and hence are looking for a basis of $\\Ker(\\bW)$ which . \n",
    "We can determine the kernel of $\\bW$ element-wise, for $\\bW_K$ collect a set of orthogonal basis vectors in a matrix  $\\bT_K\\in\\mathbb{R}^{N_{\\!K}\\!\\times\\! M_{\\!K}}$ so that $\\ker(\\bW_K) = \\bT_K \\cdot \\mathbb{R}^{M_K}$.\n",
    "\n",
    "We can then implicitly solve using Trefftz test and trial functions by solving:\n",
    "\n",
    "Find $\\bu_\\IT$ so that \n",
    "\n",
    "$$\n",
    "\\begin{equation} \\label{eq:trefftzlinearsys}\n",
    "   \\bT^T\\bA\\bT ~ \\bu_\\IT = \\bT^T \\bl.\n",
    "\\end{equation}\n",
    "$$\n",
    "\n",
    "The solution in the full polynomial space is then given by $\\bu=\\bT\\bu_\\IT$"
   ]
  },
  {
   "cell_type": "code",
   "execution_count": null,
   "id": "a8511e9e",
   "metadata": {},
   "outputs": [],
   "source": [
    "from ngsolve import *\n",
    "from ngstrefftz import *\n",
    "from netgen.occ import *\n",
    "SetNumThreads(4)"
   ]
  },
  {
   "cell_type": "markdown",
   "id": "a3022849",
   "metadata": {},
   "source": [
    "### Laplace problem\n",
    "We are looking to solve \n",
    "\n",
    "$$\n",
    "\\begin{align*} \n",
    "    \\begin{cases}\n",
    "    -\\Delta u = 0 &\\text{ in } \\Omega, \\\\\n",
    "    u=g &\\text{ on } \\partial \\Omega,\n",
    "    \\end{cases}\n",
    "\\end{align*}\n",
    "$$\n",
    "\n",
    "with the embedded Trefftz method, now $ \\calL = \\Delta$."
   ]
  },
  {
   "cell_type": "code",
   "execution_count": null,
   "id": "e2a495d6",
   "metadata": {},
   "outputs": [],
   "source": [
    "exact = exp(x+y)*sin(sqrt(2)*z)\n",
    "order = 4\n",
    "mesh = Mesh(unit_cube.GenerateMesh(maxh=.2))\n",
    "fes = L2(mesh, order=order,  dgjumps=True)"
   ]
  },
  {
   "cell_type": "markdown",
   "id": "da038eae",
   "metadata": {},
   "source": [
    "A suiteable DG method is given by\n",
    "\n",
    "$$\n",
    "\\newcommand{\\Th}{{\\mathcal{T}_h}} \n",
    "\\newcommand{\\Fh}{\\mathcal{F}_h} \n",
    "\\newcommand{\\dom}{\\Omega} \n",
    "\\newcommand{\\jump}[1]{[\\![ #1 ]\\!]}\n",
    "\\newcommand{\\tjump}[1]{[\\![{#1} ]\\!]_\\tau}\n",
    "\\newcommand{\\avg}[1]{\\{\\!\\!\\{#1\\}\\!\\!\\}}\n",
    "\\newcommand{\\nx}{n_\\mathbf{x}} \n",
    "\\begin{align}\n",
    "    a_h(u,v) &= \\int_\\dom \\nabla u\\nabla v\\ dV\n",
    "    -\\int_{\\Fh^\\text{int}}\\left(\\avg{\\nabla u}\\jump{v}+\\avg{\\nabla v}\\jump{u} \n",
    "    - \\frac{\\alpha p^2}{h}\\jump{u}\\jump{v} \\right) dS \\\\\n",
    "           &\\qquad -\\int_{\\Fh^\\text{bnd}}\\left(\\nx\\cdot\\nabla u v+\\nx\\cdot\\nabla v u-\\frac{\\alpha p^2}{h} u v \\right) dS\\\\\n",
    "    \\ell(v) &= \\int_{\\Fh^\\text{bnd}}\\left(\\frac{\\alpha p^2}{h} gv -\\nx\\cdot\\nabla vg\\right) dS.\n",
    "\\end{align}\n",
    "$$\n",
    " "
   ]
  },
  {
   "cell_type": "code",
   "execution_count": null,
   "id": "cc101b1b",
   "metadata": {},
   "outputs": [],
   "source": [
    "def lapdg(fes,bndc):\n",
    "    alpha = 4\n",
    "    n = specialcf.normal(mesh.dim)\n",
    "    h = specialcf.mesh_size\n",
    "    u = fes.TrialFunction()\n",
    "    v = fes.TestFunction()\n",
    "\n",
    "    jump_u = (u-u.Other())*n\n",
    "    jump_v = (v-v.Other())*n\n",
    "    mean_dudn = 0.5 * (grad(u)+grad(u.Other()))\n",
    "    mean_dvdn = 0.5 * (grad(v)+grad(v.Other()))\n",
    "\n",
    "    a = BilinearForm(fes,symmetric=True)\n",
    "    a += grad(u)*grad(v) * dx \\\n",
    "        +alpha*order**2/h*jump_u*jump_v * dx(skeleton=True) \\\n",
    "        +(-mean_dudn*jump_v-mean_dvdn*jump_u) * dx(skeleton=True) \\\n",
    "        +alpha*order**2/h*u*v * ds(skeleton=True) \\\n",
    "        +(-n*grad(u)*v-n*grad(v)*u)* ds(skeleton=True)\n",
    "\n",
    "    f = LinearForm(fes)\n",
    "    f += alpha*order**2/h*bndc*v * ds(skeleton=True) \\\n",
    "         +(-n*grad(v)*bndc)* ds(skeleton=True)\n",
    "    return a,f\n",
    "\n",
    "a,f = lapdg(fes,exact)\n",
    "with TaskManager():\n",
    "    a.Assemble()\n",
    "    f.Assemble()"
   ]
  },
  {
   "cell_type": "markdown",
   "id": "4f1de24c",
   "metadata": {},
   "source": [
    "### Trefftz embedding"
   ]
  },
  {
   "cell_type": "markdown",
   "id": "19d5d04a",
   "metadata": {},
   "source": [
    "We use the function $\\texttt{TrefftzEmbedding}$ and pass the operator \n",
    "$$\n",
    "\\newcommand{\\Vhp}{V^p(\\Th)}\n",
    "\\newcommand{\\bT}{\\mathbf{T}}\n",
    "\\newcommand{\\bW}{\\mathbf{W}}\n",
    "\\newcommand{\\bl}{\\mathbf{l}}\n",
    "\\newcommand{\\bM}{\\mathbf{M}}\n",
    "\\newcommand{\\bL}{\\mathbf{L}}\n",
    "\\newcommand{\\bA}{\\mathbf{A}}\n",
    "\\newcommand{\\bU}{\\mathbf{U}}\n",
    "\\newcommand{\\bV}{\\mathbf{V}}\n",
    "\\newcommand{\\calL}{\\mathcal{L}}\n",
    "\\newcommand{\\bu}{\\mathbf{u}}\n",
    "\\newcommand{\\IT}{\\mathbb{T}}\n",
    "\\newcommand{\\calG}{\\mathcal{G}}\n",
    "\\newcommand{\\be}{\\mathbf{e}}\n",
    "\\newcommand{\\bx}{{\\mathbf x}}\n",
    "\\newcommand{\\inner}[1]{\\langle #1 \\rangle}\n",
    "\\DeclareMathOperator\\Ker{ker}\n",
    "\\begin{align} \n",
    "    \\inner{\\calL \\cdot,\\calL \\cdot}_{0,h}\n",
    "\\end{align}\n",
    "$$ \n",
    "When numerically computing the kernel of a matrix, we use a SVD. The diagonal matrix of the SVD  would have $M_K$ zeros assuming exact arithmetics. \n",
    "Due to inexact computer arithmetics this will not be the case exactly and hence we use a truncation parameter $\\varepsilon>0$ to determine which values are considered as (numerical) zeros.\n"
   ]
  },
  {
   "cell_type": "code",
   "execution_count": null,
   "id": "79be0712",
   "metadata": {},
   "outputs": [],
   "source": [
    "eps=10**-9\n",
    "Lap = lambda u : sum(Trace(u.Operator('hesse')))\n",
    "u,v = fes.TnT()\n",
    "op = Lap(u)*Lap(v)*dx\n",
    "with TaskManager():\n",
    "    PP = TrefftzEmbedding(op,fes,eps)\n",
    "PPT = PP.CreateTranspose()\n",
    "with TaskManager():\n",
    "    TA = PPT@a.mat@PP\n",
    "    TU = TA.Inverse(inverse='sparsecholesky')*(PPT*f.vec)\n",
    "    tgfu = GridFunction(fes)\n",
    "    tgfu.vec.data = PP*TU"
   ]
  },
  {
   "cell_type": "code",
   "execution_count": null,
   "id": "c5c97c93",
   "metadata": {},
   "outputs": [],
   "source": [
    "error = sqrt(Integrate((tgfu-exact)**2, mesh))\n",
    "print(\"embedded Trefftz error \",error)"
   ]
  },
  {
   "cell_type": "markdown",
   "id": "8f34efc5",
   "metadata": {},
   "source": [
    "### Trefftz embedding type 2"
   ]
  },
  {
   "cell_type": "markdown",
   "id": "c02fb15b",
   "metadata": {},
   "source": [
    "We can also construct the embedding by finding the kernel of\n",
    "\n",
    "$$\n",
    "\\begin{align} \n",
    "    (\\bW)_{ij}&=\\inner{\\calL\\phi_j,\\tilde\\phi_i}_{0,h},\\qquad \\forall \\tilde\\phi_i\\in V^{p-2}(\\Th)\n",
    "\\end{align}\n",
    "$$"
   ]
  },
  {
   "cell_type": "code",
   "execution_count": null,
   "id": "558432aa",
   "metadata": {},
   "outputs": [],
   "source": [
    "eps=10**-9\n",
    "Lap = lambda u : sum(Trace(u.Operator('hesse')))\n",
    "u = fes.TrialFunction()\n",
    "fes2 = L2(mesh, order=order-2,  dgjumps=True)\n",
    "v = fes2.TestFunction()\n",
    "op = Lap(u)*v*dx\n",
    "with TaskManager():\n",
    "    PP = TrefftzEmbedding(op,fes,test_fes=fes2)\n",
    "PPT = PP.CreateTranspose()\n",
    "with TaskManager():\n",
    "    TA = PPT@a.mat@PP\n",
    "    TU = TA.Inverse(inverse='sparsecholesky')*(PPT*f.vec)\n",
    "    tgfu = GridFunction(fes)\n",
    "    tgfu.vec.data = PP*TU"
   ]
  },
  {
   "cell_type": "code",
   "execution_count": null,
   "id": "c58dd2a5",
   "metadata": {},
   "outputs": [],
   "source": [
    "error = sqrt(Integrate((tgfu-exact)**2, mesh))\n",
    "print(\"embedded Trefftz error \",error)"
   ]
  },
  {
   "cell_type": "markdown",
   "id": "0e852921",
   "metadata": {},
   "source": [
    "## Trefftz embedding via FESpace\n",
    "The following improves the runtime of the embedded Trefftz method by avoiding the full assembly of the larger system matrix. Instead we directly assemble the matrix $\\bT^T\\bA\\bT$ using the local embedding matrices.\n",
    "\n",
    "We use `EmbeddedTrefftzFES` to construct an embedded space from an underlying `L2` space."
   ]
  },
  {
   "cell_type": "code",
   "execution_count": null,
   "id": "d73b7e44",
   "metadata": {},
   "outputs": [],
   "source": [
    "with TaskManager():\n",
    "    fes = L2(mesh, order=order, dgjumps=True)\n",
    "    u,v = fes.TnT()\n",
    "    op = Lap(u)*Lap(v)*dx\n",
    "    \n",
    "    etfes = EmbeddedTrefftzFES(fes)\n",
    "    etfes.SetOp(op,eps=eps)\n",
    "\n",
    "    a,f = lapdg(etfes,exact)\n",
    "    a.Assemble()\n",
    "    f.Assemble()\n",
    "\n",
    "    inv = a.mat.Inverse(inverse=\"sparsecholesky\")\n",
    "    gfu = GridFunction(etfes)\n",
    "    gfu.vec.data = inv * f.vec"
   ]
  },
  {
   "cell_type": "code",
   "execution_count": null,
   "id": "6374c21d",
   "metadata": {},
   "outputs": [],
   "source": [
    "print(\"embedded Trefftz error \",sqrt(Integrate((gfu-exact)**2, mesh)))"
   ]
  }
 ],
 "metadata": {
  "kernelspec": {
   "display_name": "Python 3 (ipykernel)",
   "language": "python",
   "name": "python3"
  },
  "language_info": {
   "codemirror_mode": {
    "name": "ipython",
    "version": 3
   },
   "file_extension": ".py",
   "mimetype": "text/x-python",
   "name": "python",
   "nbconvert_exporter": "python",
   "pygments_lexer": "ipython3",
   "version": "3.11.3"
  }
 },
 "nbformat": 4,
 "nbformat_minor": 5
}
