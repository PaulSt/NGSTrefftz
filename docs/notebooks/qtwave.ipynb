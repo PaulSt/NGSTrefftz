{
 "cells": [
  {
   "cell_type": "markdown",
   "id": "5e251ded",
   "metadata": {},
   "source": [
    "# Quasi-Trefftz DG "
   ]
  },
  {
   "cell_type": "code",
   "execution_count": null,
   "id": "00d21fa5",
   "metadata": {
    "code_folding": []
   },
   "outputs": [],
   "source": [
    "from ngstrefftz import TWave,trefftzfespace\n",
    "from ngsolve.TensorProductTools import MakeTensorProductMesh, SegMesh\n",
    "from netgen.occ import *\n",
    "from ngsolve import *\n",
    "from ngsolve.webgui import Draw\n",
    "import time"
   ]
  },
  {
   "cell_type": "markdown",
   "id": "7b08492c",
   "metadata": {},
   "source": [
    "We consider the wave operator\n",
    "\n",
    "$$\n",
    "\\begin{align*} \\begin{split}\n",
    "(\\square_G f)(\\mathbf{x},t):= \\Delta f(\\mathbf{x},t)-G(\\mathbf{x})\\partial_t^2 f(\\mathbf{x},t).\n",
    "\\end{split} \\end{align*}\n",
    "$$\n",
    "\n",
    "with smooth coefficient $G(\\mathbf{x})$. \n",
    "Constructing a basis for a traditional Trefftz space (i.e. a space of functions with $\\square_G f=0$) is not possible.\n",
    "The crucial idea is that we want to relax the Trefftz porperty to \n",
    "\n",
    "$$\\square_G f=\\mathcal{O}(\\|(\\mathbf{x},t)-(\\mathbf{x}_K,t_K)\\|^q), $$\n",
    "\n",
    "with respect to the center of a mesh element $K$ and up to some $q$.\n",
    "This leads to the definition of a new *quasi-Trefftz* space: For an element $K$ in a space-time mesh let\n",
    "\n",
    "$$\n",
    "\\begin{align*} \\begin{split}\n",
    "\\mathbb{T}^p(K):=\\big\\{\n",
    "f\\in\\mathbb{P}^p(K) \\mid D^{i}\\square_G f(\\mathbf{x}_K,t_K)=0,\\ \\forall i\\in \\mathbb{N}^{n+1}_0, |i|<p-1\n",
    "\\big\\},\n",
    "\\qquad p\\in \\mathbb{N}.\n",
    "\\end{split} \\end{align*}\n",
    "$$\n",
    "\n",
    "For this space we are able to construct a basis. \n",
    "We then introduce a space-time DG method with test and trial functions that are locally quasi-Trefftz. \n",
    "The example below shows an acoustic wave propagating through a material with $G(x,y)=y+1$ and homogeneous Neumann boundary conditions. \n"
   ]
  },
  {
   "cell_type": "code",
   "execution_count": null,
   "id": "5a39cd57",
   "metadata": {
    "code_folding": []
   },
   "outputs": [],
   "source": [
    "meshx = Mesh(unit_square.GenerateMesh(maxh=0.2))\n",
    "mesht = Mesh(SegMesh(5,0,1,periodic=False) )\n",
    "mesh = Mesh(MakeTensorProductMesh(meshx,mesht))"
   ]
  },
  {
   "cell_type": "markdown",
   "id": "b6101961",
   "metadata": {},
   "source": [
    "Test solution"
   ]
  },
  {
   "cell_type": "code",
   "execution_count": null,
   "id": "ba136424",
   "metadata": {
    "code_folding": []
   },
   "outputs": [],
   "source": [
    "ca=2.5\n",
    "sig_ex = CoefficientFunction((-ca*(x+y+1)**(ca-1) * exp(-sqrt(2*ca*(ca-1))*z),\\\n",
    "                            -ca*(x+y+1)**(ca-1) * exp(-sqrt(2*ca*(ca-1))*z)) )\n",
    "v_ex = -sqrt(2*ca*(ca-1))*(x+y+1)**ca * exp(-sqrt(2*ca*(ca-1))*z)\n",
    "c = CoefficientFunction((x+y+1))\n",
    "gD=v_ex"
   ]
  },
  {
   "cell_type": "markdown",
   "id": "18c63cfa",
   "metadata": {},
   "source": [
    "#### Quasi-Trefftz space"
   ]
  },
  {
   "cell_type": "markdown",
   "id": "caf3bfad",
   "metadata": {},
   "source": [
    "Construct a quasi-Trefftz space for the forst order wave equation by setting `eq=\"foqtwave\"`"
   ]
  },
  {
   "cell_type": "code",
   "execution_count": null,
   "id": "98076b49",
   "metadata": {},
   "outputs": [],
   "source": [
    "fes = trefftzfespace(mesh,order=3,dgjumps=True,eq=\"foqtwave\")\n",
    "fes.SetCoeff(c)"
   ]
  },
  {
   "cell_type": "code",
   "execution_count": null,
   "id": "ce5cd712",
   "metadata": {
    "code_folding": []
   },
   "outputs": [],
   "source": [
    "D = fes.mesh.dim - 1\n",
    "\n",
    "vsig = fes.TrialFunction()\n",
    "wtau = fes.TestFunction()\n",
    "vsigo=vsig.Other()\n",
    "wtauo=wtau.Other()\n",
    "\n",
    "v = vsig[D]\n",
    "sig = CoefficientFunction(tuple([vsig[i] for i in  range(D)]))\n",
    "w = wtau[D]\n",
    "tau = CoefficientFunction(tuple([wtau[i] for i in  range(D)]))\n",
    "\n",
    "vo = vsigo[D]\n",
    "sigo = CoefficientFunction(tuple([vsigo[i] for i in  range(D)]))\n",
    "wo = wtauo[D]\n",
    "tauo = CoefficientFunction(tuple([wtauo[i] for i in  range(D)]))\n",
    "\n",
    "h = specialcf.mesh_size\n",
    "n = specialcf.normal(D+1)\n",
    "n_t = n[D]/Norm(n)\n",
    "n_x = CoefficientFunction( tuple([n[i]/Norm(n) for i in  range(D)]) )\n",
    "\n",
    "mean_v = 0.5*(v+vo)\n",
    "mean_w = 0.5*(w+wo)\n",
    "mean_sig = 0.5*(sig+sigo)\n",
    "mean_tau = 0.5*(tau+tauo)\n",
    "\n",
    "jump_vx = ( v - vo ) * n_x\n",
    "jump_wx = ( w - wo ) * n_x\n",
    "jump_sigx = (( sig - sigo ) * n_x)\n",
    "jump_taux = (( tau - tauo ) * n_x)\n",
    "\n",
    "jump_vt = ( v - vo ) * n_t\n",
    "jump_wt = ( w - wo ) * n_t\n",
    "jump_sigt = ( sig - sigo ) * n_t\n",
    "jump_taut = ( tau - tauo ) * n_t\n",
    "\n",
    "timelike = n_x*n_x # n_t=0\n",
    "spacelike = n_t**2 # n_x=0\n",
    "\n",
    "#params\n",
    "alpha=0.5\n",
    "beta=0.5\n",
    "\n",
    "a = BilinearForm(fes)\n",
    "dttau = CoefficientFunction(tuple([grad(wtau)[i,D] for i in range(D)]))\n",
    "gtau = sum([grad(wtau)[i*(D+2)] for i in range(D)])\n",
    "dtw =grad(wtau)[(D+1)*(D+1)-1]\n",
    "gw=CoefficientFunction(tuple([grad(wtau)[D,i] for i in range(D)]))\n",
    "a += (- v*(gtau + pow(c,-2)*dtw) ) * dx\n",
    "a += ( - sig*(dttau + gw ) ) * dx\n",
    "a += spacelike * ( pow(c,-2)*IfPos(n_t,v,vo)*jump_wt + IfPos(n_t,sig,sigo)*jump_taut) * dx(skeleton=True)\n",
    "a += timelike * ( mean_v*jump_taux + mean_sig*jump_wx + alpha*jump_vx*jump_wx + beta*jump_sigx*jump_taux ) * dx(skeleton=True )\n",
    "a += ( pow(c,-2)*v*w + sig*tau) * IfPos(n_t,1,0)*spacelike * ds(skeleton=True)\n",
    "a += ( sig*n_x*w + alpha*v*w ) * timelike * ds(skeleton=True)\n",
    "\n",
    "f = LinearForm(fes)\n",
    "f += ( pow(c,-2)*v_ex*w + sig_ex*tau ) * IfPos(n_t,0,1)*spacelike * ds(skeleton=True) \n",
    "f += ( gD * (alpha*w - tau*n_x) ) * timelike *  ds(skeleton=True) "
   ]
  },
  {
   "cell_type": "code",
   "execution_count": null,
   "id": "9fde34ff",
   "metadata": {},
   "outputs": [],
   "source": [
    "with TaskManager():\n",
    "    a.Assemble()\n",
    "    f.Assemble()\n",
    "    \n",
    "gfu = GridFunction(fes, name=\"uDG\")\n",
    "gfu.vec.data = a.mat.Inverse()*f.vec\n",
    "Draw(gfu,clipping={\"z\":-1, \"dist\":-.33})"
   ]
  },
  {
   "cell_type": "code",
   "execution_count": null,
   "id": "153d5a50",
   "metadata": {},
   "outputs": [],
   "source": [
    "Integrate((gfu-CoefficientFunction((sig_ex,v_ex)))**2,mesh)"
   ]
  }
 ],
 "metadata": {
  "kernelspec": {
   "display_name": "Python 3 (ipykernel)",
   "language": "python",
   "name": "python3"
  },
  "language_info": {
   "codemirror_mode": {
    "name": "ipython",
    "version": 3
   },
   "file_extension": ".py",
   "mimetype": "text/x-python",
   "name": "python",
   "nbconvert_exporter": "python",
   "pygments_lexer": "ipython3",
   "version": "3.11.3"
  }
 },
 "nbformat": 4,
 "nbformat_minor": 5
}
