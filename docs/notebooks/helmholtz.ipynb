{
 "cells": [
  {
   "cell_type": "markdown",
   "id": "4809b118",
   "metadata": {},
   "source": [
    "# Helmholtz \n",
    "The Helmholtz equation with Robin boundary conditions\n",
    "\n",
    "$$\n",
    "\\newcommand{\\Th}{{\\mathcal{T}_h}} \n",
    "\\newcommand{\\Fh}{\\mathcal{F}_h} \n",
    "\\newcommand{\\dom}{\\Omega} \n",
    "\\newcommand{\\jump}[1]{[\\![ #1 ]\\!]}\n",
    "\\newcommand{\\tjump}[1]{[\\![{#1} ]\\!]_\\tau}\n",
    "\\newcommand{\\avg}[1]{\\{\\!\\!\\{#1\\}\\!\\!\\}}\n",
    "\\newcommand{\\nx}{n_\\mathbf{x}} \n",
    "\\newcommand{\\IT}{\\mathbb{T}}\n",
    "\\newcommand{\\bx}{\\mathbf{x}} \n",
    "\\newcommand{\\sst}{\\;\\text{s.t.}\\;}\n",
    "\\begin{align*}\n",
    "    \\begin{cases}\n",
    "    -\\Delta u - \\omega^2 u= 0 &\\text{ in } \\dom, \\\\\n",
    "    \\frac{\\partial u}{\\partial \\nx} + i u = g &\\text{ on } \\partial \\dom.\n",
    "    \\end{cases}\n",
    "\\end{align*}\n",
    "$$\n",
    "\n",
    "We consider the DG-scheme given by\n",
    "\n",
    "$$\n",
    "\\begin{align}\n",
    "        a_h(u,v) &= \\sum_{K\\in\\Th}\\int_K \\nabla u\\nabla v-\\omega^2 uv\\ dV\n",
    "        -\\int_{\\Fh^\\text{int}}\\left(\\avg{\\nabla u}\\jump{v}+\\jump{u} \\avg{\\overline{\\nabla v}} \\right) dS \\nonumber \\\\ \n",
    "                 &\\qquad+\\int_{\\Fh^\\text{int}} \\left( i\\alpha \\omega\\jump{u}\\jump{\\overline{v}} - \\frac{\\beta}{i\\omega}\\jump{\\nabla u}\\jump{\\overline{\\nabla v}} \\right) dS -\\int_{\\Fh^\\text{bnd}}\\delta\\left(\\nx\\cdot\\nabla u \\overline{v}+u \\overline{\\nx\\cdot\\nabla v}\\right) dS\\\\ \\nonumber\n",
    "                 &\\qquad+\\int_{\\Fh^\\text{bnd}} \\left( i(1-\\delta)\\omega{u}{\\overline{v}} - \\frac{\\delta}{i\\omega}{\\nabla u}{\\overline{\\nabla v}} \\right) dS \\\\ \n",
    "        \\ell(v) &= \\int_{\\Fh^\\text{bnd}}\\left( (1-\\delta)g\\overline{v} - \\frac{\\delta}{i\\omega}g\\overline{\\nx\\cdot\\nabla v}\\right) dS\n",
    "\\end{align}\n",
    "$$\n",
    "\n",
    "A Trefftz space for the Helmholtz equation in two dimensions is given by the (non-polynomial) space of plane wave functions\n",
    "\n",
    "$$\n",
    "\\begin{align*}\n",
    "    \\IT^p=\\{e^{-i\\omega(d_j\\cdot \\bx)} \\sst j=-p,\\dots,p\\}.\n",
    "\\end{align*}\n",
    "$$\n"
   ]
  },
  {
   "cell_type": "code",
   "execution_count": null,
   "id": "d6d31794",
   "metadata": {},
   "outputs": [],
   "source": [
    "from ngsolve import *\n",
    "from ngstrefftz import *\n",
    "from netgen.occ import *"
   ]
  },
  {
   "cell_type": "code",
   "execution_count": null,
   "id": "ad81be3d",
   "metadata": {},
   "outputs": [],
   "source": [
    "mesh = Mesh(unit_square.GenerateMesh(maxh=.3))\n",
    "fes = trefftzfespace(mesh,order=3,eq=\"helmholtz\",complex=True,dgjumps=True)\n",
    "fes2 = trefftzfespace(mesh,order=3,eq=\"helmholtzconj\",complex=True,dgjumps=True)"
   ]
  },
  {
   "cell_type": "code",
   "execution_count": null,
   "id": "67425dba",
   "metadata": {},
   "outputs": [],
   "source": [
    "omega=1\n",
    "n = specialcf.normal(2)\n",
    "exact = exp(1j*sqrt(0.5)*(x+y))\n",
    "gradexact = CoefficientFunction((sqrt(0.5)*1j*exact, sqrt(0.5)*1j*exact))\n",
    "bndc = gradexact*n + 1j*omega*exact\n",
    "eps = 10**-7"
   ]
  },
  {
   "cell_type": "code",
   "execution_count": null,
   "id": "914f0661",
   "metadata": {},
   "outputs": [],
   "source": [
    "h = specialcf.mesh_size\n",
    "alpha = 1/(omega*h)\n",
    "beta = omega*h\n",
    "delta = omega*h\n",
    "\n",
    "u = fes.TrialFunction()\n",
    "v = fes.TestFunction()\n",
    "if fes2 is not None:\n",
    "    v = fes2.TestFunction()\n",
    "jump_u = (u-u.Other())*n\n",
    "jump_v = (v-v.Other())*n\n",
    "jump_du = (grad(u)-grad(u.Other()))*n\n",
    "jump_dv = (grad(v)-grad(v.Other()))*n\n",
    "mean_u = 0.5 * ((u)+(u.Other()))\n",
    "mean_du = 0.5 * (grad(u)+grad(u.Other()))\n",
    "mean_dv = 0.5 * (grad(v)+grad(v.Other()))\n",
    "\n",
    "a = BilinearForm(fes,fes2)\n",
    "a += grad(u)*(grad(v))*dx - omega**2*u*(v)*dx\n",
    "\n",
    "a += -(jump_u*(mean_dv)+mean_du*(jump_v)) * dx(skeleton=True)\n",
    "a += -1/(omega*1j)*beta*(jump_du*(jump_dv)) * dx(skeleton=True)\n",
    "a += omega*1j*alpha*jump_u*(jump_v) * dx(skeleton=True)\n",
    "\n",
    "a += -delta*(u*(grad(v))*n+grad(u)*n*(v)) * ds(skeleton=True)\n",
    "a += -1/(omega*1j)*delta*(grad(u)*n)*((grad(v))*n) * ds(skeleton=True)\n",
    "a += omega*1j*(1-delta)*u*(v) * ds(skeleton=True)\n",
    "\n",
    "f = LinearForm(fes2)\n",
    "f += -1/(omega*1j)*delta*bndc*(grad(v))*n*ds(skeleton=True)\n",
    "f += (1-delta)*bndc*(v)*ds(skeleton=True)\n",
    "\n",
    "with TaskManager():\n",
    "    a.Assemble()\n",
    "    f.Assemble()"
   ]
  },
  {
   "cell_type": "code",
   "execution_count": null,
   "id": "a84d0817",
   "metadata": {},
   "outputs": [],
   "source": [
    "gfu = GridFunction(fes)\n",
    "with TaskManager():\n",
    "    gfu.vec.data = a.mat.Inverse() * f.vec\n",
    "error = sqrt(Integrate((gfu-exact)*Conj(gfu-exact), mesh).real)\n",
    "print(\"error \",error)"
   ]
  }
 ],
 "metadata": {
  "kernelspec": {
   "display_name": "Python 3 (ipykernel)",
   "language": "python",
   "name": "python3"
  },
  "language_info": {
   "codemirror_mode": {
    "name": "ipython",
    "version": 3
   },
   "file_extension": ".py",
   "mimetype": "text/x-python",
   "name": "python",
   "nbconvert_exporter": "python",
   "pygments_lexer": "ipython3",
   "version": "3.11.3"
  }
 },
 "nbformat": 4,
 "nbformat_minor": 5
}
