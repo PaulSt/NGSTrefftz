{
 "cells": [
  {
   "cell_type": "markdown",
   "id": "694cb183",
   "metadata": {},
   "source": [
    "# Unfitted Trefftz-DG method\n",
    "We are looking to solve \n",
    "\n",
    "$$\n",
    "\\begin{align*} \\begin{split}\n",
    "    \\begin{cases}\n",
    "    -\\Delta u = 0 &\\text{ in } \\Omega, \\\\\n",
    "    u=g &\\text{ on } \\partial \\Omega,\n",
    "    \\end{cases}\n",
    "\\end{split} \\end{align*}\n",
    "$$\n",
    "\n",
    "using a Trefftz-DG formulation on an unfitted domain.\n",
    "We use [ngsxfem](https://github.com/ngsxfem/ngsxfem) for the unfitted finite element discretization."
   ]
  },
  {
   "cell_type": "code",
   "execution_count": null,
   "id": "f9bdca3d",
   "metadata": {},
   "outputs": [],
   "source": [
    "from ngsolve import *\n",
    "from ngsolve import dx as ngsdx\n",
    "from xfem import *\n",
    "from xfem.lsetcurv import *\n",
    "from ngstrefftz import *\n",
    "from netgen.occ import *\n",
    "order=4"
   ]
  },
  {
   "cell_type": "markdown",
   "id": "b3fc988b",
   "metadata": {},
   "source": [
    "### Level set\n",
    "We setup the background mesh and describe the geometry using a levelset function"
   ]
  },
  {
   "cell_type": "code",
   "execution_count": null,
   "id": "96197ad0",
   "metadata": {},
   "outputs": [],
   "source": [
    "levelset = (sqrt(((x-0.5)*3)**2+((y-0.5)*3)**2)) - 1.0\n",
    "mesh = Mesh(unit_square.GenerateMesh(maxh=.1))"
   ]
  },
  {
   "cell_type": "code",
   "execution_count": null,
   "id": "8cf613e3",
   "metadata": {},
   "outputs": [],
   "source": [
    "lsetmeshadap = LevelSetMeshAdaptation(mesh, order=order, threshold=0.1,\n",
    "                                      discontinuous_qn=True,heapsize=int(1e8))\n",
    "deformation = lsetmeshadap.CalcDeformation(levelset)\n",
    "mesh.SetDeformation(deformation)\n",
    "lsetp1 = lsetmeshadap.lset_p1\n",
    "DrawDC(lsetp1, 1, 0, mesh, \"levelset\", min=0)"
   ]
  },
  {
   "cell_type": "markdown",
   "id": "b88f9484",
   "metadata": {},
   "source": [
    "### Trefftz FE space \n",
    "We use the Trefftz space of harmonic polynomials and $\\texttt{Restrict}$ to remove unused dofs"
   ]
  },
  {
   "cell_type": "code",
   "execution_count": null,
   "id": "7ecb6755",
   "metadata": {},
   "outputs": [],
   "source": [
    "ci = CutInfo(mesh, lsetp1)\n",
    "els_hasneg = ci.GetElementsOfType(HASNEG)\n",
    "els_if = ci.GetElementsOfType(IF)\n",
    "# Facets with parts inside the domain\n",
    "facets_dg = GetFacetsWithNeighborTypes(mesh, a=els_hasneg, b=els_hasneg)\n",
    "\n",
    "Vhbase = trefftzfespace(mesh, order=order, eq='laplace', dgjumps=True)\n",
    "Vh = Restrict(Vhbase, els_hasneg)\n",
    "u, v = Vh.TnT()\n",
    "gfu = GridFunction(Vh)"
   ]
  },
  {
   "cell_type": "markdown",
   "id": "8a5a035a",
   "metadata": {},
   "source": [
    "### DG formulation\n",
    "$\\newcommand{\\nF}{\\nb_F}\n",
    "\\newcommand{\\dnF}{\\nF\\cdot\\nabla}\n",
    "\\newcommand{\\dn}{\\nb\\cdot\\nabla}\n",
    "\\newcommand{\\jump}[1]{[\\![#1]\\!]} \n",
    "\\newcommand{\\mean}[1]{\\{\\!\\!\\{#1\\}\\!\\!\\}}\n",
    "\\newcommand{\\Thact}{\\mathcal{T}_h^{\\text{act}}}\n",
    "\\newcommand{\\Fhact}{\\mathcal{F}_h^{\\text{act}}}\n",
    "\\newcommand{\\ThG}{\\Th^{\\Gamma}}\n",
    "\\newcommand{\\Fhdg}{\\Fh(\\Th)}\n",
    "\\newcommand{\\Fhdgact}{\\Fh(\\Thact)}\n",
    "\\newcommand{\\Fhgp}{\\Fh^\\text{gp}}\n",
    "\\newcommand{\\Fhgpmin}{\\Fh^{\\text{gp},\\min}}\n",
    "\\newcommand{\\Fhgpstar}{\\Fh^{\\text{gp}\\star}}\n",
    "\\newcommand{\\xb}{\\bm{x}}\n",
    "\\newcommand{\\xbh}{\\hat{\\xb}}\n",
    "\\newcommand{\\nb}{\\mathbf{n}}\n",
    "\\newcommand{\\nbF}{\\nb_F}\n",
    "\\newcommand{\\nbFh}{\\hat{\\nb}_F}\n",
    "\\newcommand{\\Ex}{\\mathcal{E}}\n",
    "\\newcommand{\\inter}{\\pi_h}\n",
    "\\newcommand{\\interE}{\\pi_h^e}\n",
    "\\newcommand{\\PP}{\\mathbb{P}}\n",
    "\\newcommand{\\Th}{\\mathcal{T}_h}\n",
    "\\newcommand{\\Sh}{\\mathcal{S}_h}\n",
    "\\newcommand{\\Fh}{\\mathcal{F}_h}\n",
    "\\newcommand{\\Sh}{\\mathcal{S}_h}\n",
    "\\DeclareMathOperator{\\Int}{Int}\n",
    "\\newcommand{\\Ah}{\\mathcal{A}_h}$\n",
    "We introduce the bilinear form $\\Ah$ given by\n",
    "\n",
    "$$\n",
    "\\begin{equation} \n",
    "\\begin{aligned} \n",
    "    \\Ah(u,v) := &\\ (\\nabla u, \\nabla v)_\\Omega - (\\dn u, v)_\\Gamma - (u, \\dn v)_\\Gamma + \\beta (h^{-1} u,v)_\\Gamma \\\\\n",
    "                       &- (\\mean{\\dnF u }, \\jump{ v })_{\\Fh \\cap \\Omega} - (\\jump{u}, \\mean{\\dnF v } )_{\\Fh \\cap \\Omega} + \\beta (h^{-1} \\jump{u}, \\jump{v})_{\\Fh \\cap \\Omega},\n",
    "\\end{aligned}\n",
    "\\end{equation}\n",
    "$$\n",
    "\n",
    "and setup the necessary differential symbols for cut elements "
   ]
  },
  {
   "cell_type": "code",
   "execution_count": null,
   "id": "c8219fba",
   "metadata": {},
   "outputs": [],
   "source": [
    "lambda_dg = lambda_nitsche = 10\n",
    "h = specialcf.mesh_size\n",
    "nh = 1.0 / Norm(grad(lsetp1)) * grad(lsetp1)\n",
    "nF = specialcf.normal(mesh.dim)\n",
    "flux_u = -0.5 * (grad(u) + grad(u.Other())) * nF\n",
    "flux_v = -0.5 * (grad(v) + grad(v.Other())) * nF\n",
    "jump_u = u - u.Other()\n",
    "jump_v = v - v.Other()\n",
    "\n",
    "dX = ngsdx(definedonelements=els_hasneg)\n",
    "dx = dCut(lsetp1, NEG, definedonelements=els_hasneg)\n",
    "dk = dCut(lsetp1, NEG, skeleton=True, definedonelements=facets_dg)\n",
    "ds = dCut(lsetp1, IF, definedonelements=els_if)\n",
    "\n",
    "a = RestrictedBilinearForm(Vh, element_restriction=els_hasneg,\n",
    "                           facet_restriction=facets_dg,\n",
    "                           check_unused=True)\n",
    "a += (grad(u) * grad(v)) * dx\n",
    "a += (lambda_dg / h * jump_u * jump_v + flux_u * jump_v + flux_v * jump_u) * dk\n",
    "a += (-grad(u) * nh * v - grad(v) * nh * u + lambda_nitsche / h * u * v) * ds"
   ]
  },
  {
   "cell_type": "markdown",
   "id": "b4baa59b",
   "metadata": {},
   "source": [
    "To deal with shape-irregular cuts we add a ghost penalty stabilization term.\n",
    "Different realisations are possible, here we will implement \n",
    "\n",
    "$$\n",
    "\\begin{align}\\label{eq:sh1}\n",
    "  \\Sh(u,v) = \\sum_{F \\in \\Fhgp} \\gamma ~ ({h_F^{-2}} \\jump{ \\Pi_{\\Th} u}_{\\omega_F}, \\jump{\\Pi_{\\Th} v}_{\\omega_F})_{\\omega_F}.\n",
    "\\end{align}\n",
    "$$\n",
    "\n",
    "where $\\gamma > 0$ is a corresponding stabilisation parameter. \n",
    "\n",
    "Here, $\\Pi_{\\Th}$ denotes the element-wise $L^2$ projection onto $\\PP^k(\\Th)$, $\\omega_F = \\Int( \\overline{T}_1 \\cup \\overline{T}_2$) denotes the element aggregation to a facet $F \\in \\Fhgp$, $F= \\partial T_1 \\cap \\partial T_2$.\n",
    "The facet (volumetric) patch jump $\\jump{u}_{\\omega_F}$ of a polynomial $u_h\\in\\PP^k(\\Th)$ is defined as\n",
    "\n",
    "$$\n",
    "\\begin{equation*}\n",
    "\\jump{u_h}_{\\omega_F}|_{T_i} = u_h|_{T_i} - \\Ex^P(u_h|_{T_j}),\\quad\\text{for }i,j\\in\\{1,2\\}\\text{ and } i\\neq j,\n",
    "\\end{equation*}\n",
    "$$\n",
    "\n",
    "where $\\Ex^P$ denotes the canonical extension of a polynomial from $T$ to $\\tilde \\Omega$, i.e.\n",
    "\n",
    "$$\n",
    "\\begin{equation*}\n",
    "    \\Ex^P:\\PP^k(T)\\rightarrow \\PP^k(\\tilde\\Omega)\\ \\text{such that}\\ \\Ex^Pv|_T=v \\ \\text{for} \\ v \\in \\PP^k(T).\n",
    "\\end{equation*}\n",
    "$$"
   ]
  },
  {
   "cell_type": "code",
   "execution_count": null,
   "id": "12d57f00",
   "metadata": {},
   "outputs": [],
   "source": [
    "# Facets for ghost penalty stabilization\n",
    "facets_gp = GetFacetsWithNeighborTypes(mesh, a=els_hasneg, b=els_if)\n",
    "gamma_stab = 10\n",
    "dw = dFacetPatch(definedonelements=facets_gp)\n",
    "\n",
    "a += (gamma_stab / h**2 * (u - u.Other()) * (v - v.Other())) * dw"
   ]
  },
  {
   "cell_type": "markdown",
   "id": "d8b1ad28",
   "metadata": {},
   "source": [
    "We setup the right hand side for the exact solution $u=\\exp(x) \\sin(y)$"
   ]
  },
  {
   "cell_type": "code",
   "execution_count": null,
   "id": "69d34332",
   "metadata": {},
   "outputs": [],
   "source": [
    "exact = exp(x)*sin(y)\n",
    "coef_g = exact\n",
    "\n",
    "f = LinearForm(Vh)\n",
    "f += (- grad(v) * nh * coef_g + lambda_nitsche / h * coef_g * v) * ds\n",
    "\n",
    "f.Assemble()\n",
    "a.Assemble()\n",
    "\n",
    "nd = Vh.ndof\n",
    "gfu.vec.data = a.mat.Inverse(Vh.FreeDofs(), 'sparsecholesky') * f.vec\n",
    "\n",
    "l2error = sqrt(Integrate((gfu - exact)**2 * dx, mesh))\n",
    "print(l2error)\n",
    "print(mesh.ne)"
   ]
  },
  {
   "cell_type": "code",
   "execution_count": null,
   "id": "04d8db51",
   "metadata": {},
   "outputs": [],
   "source": [
    "DrawDC(lsetp1, gfu, -1, mesh, \"u\",min=0,max=1.5)"
   ]
  }
 ],
 "metadata": {
  "kernelspec": {
   "display_name": "Python 3 (ipykernel)",
   "language": "python",
   "name": "python3"
  },
  "language_info": {
   "codemirror_mode": {
    "name": "ipython",
    "version": 3
   },
   "file_extension": ".py",
   "mimetype": "text/x-python",
   "name": "python",
   "nbconvert_exporter": "python",
   "pygments_lexer": "ipython3",
   "version": "3.11.3"
  }
 },
 "nbformat": 4,
 "nbformat_minor": 5
}
