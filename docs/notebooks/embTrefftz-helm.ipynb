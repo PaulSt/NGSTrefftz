{
 "cells": [
  {
   "cell_type": "markdown",
   "id": "a08f0db0",
   "metadata": {},
   "source": [
    "# Embedded Trefftz-DG: Helmholtz"
   ]
  },
  {
   "cell_type": "code",
   "execution_count": null,
   "id": "d6d31794",
   "metadata": {},
   "outputs": [],
   "source": [
    "from ngsolve import *\n",
    "from ngstrefftz import *\n",
    "from netgen.occ import *\n",
    "from ngsolve.webgui import Draw"
   ]
  },
  {
   "cell_type": "markdown",
   "id": "4e554177",
   "metadata": {},
   "source": [
    "We consider the Helmholtz equation with Robin boundary conditions\n",
    "\n",
    "$$\n",
    "\\newcommand{\\Th}{{\\mathcal{T}_h}} \n",
    "\\newcommand{\\Fh}{\\mathcal{F}_h} \n",
    "\\newcommand{\\dom}{\\Omega} \n",
    "\\newcommand{\\jump}[1]{[\\![ #1 ]\\!]}\n",
    "\\newcommand{\\tjump}[1]{[\\![{#1} ]\\!]_\\tau}\n",
    "\\newcommand{\\avg}[1]{\\{\\!\\!\\{#1\\}\\!\\!\\}}\n",
    "\\newcommand{\\nx}{n_\\mathbf{x}} \n",
    "\\newcommand{\\Vhp}{V^p(\\Th)}\n",
    "\\newcommand{\\bT}{\\mathbf{T}}\n",
    "\\newcommand{\\bW}{\\mathbf{W}}\n",
    "\\newcommand{\\bw}{\\mathbf{w}}\n",
    "\\newcommand{\\bl}{\\mathbf{l}}\n",
    "\\newcommand{\\bM}{\\mathbf{M}}\n",
    "\\newcommand{\\bL}{\\mathbf{L}}\n",
    "\\newcommand{\\bA}{\\mathbf{A}}\n",
    "\\newcommand{\\bU}{\\mathbf{U}}\n",
    "\\newcommand{\\bV}{\\mathbf{V}}\n",
    "\\newcommand{\\calL}{\\mathcal{L}}\n",
    "\\newcommand{\\bu}{\\mathbf{u}}\n",
    "\\newcommand{\\IT}{\\mathbb{T}}\n",
    "\\newcommand{\\calG}{\\mathcal{G}}\n",
    "\\newcommand{\\be}{\\mathbf{e}}\n",
    "\\newcommand{\\bx}{{\\mathbf x}}\n",
    "\\newcommand{\\inner}[1]{\\langle #1 \\rangle}\n",
    "\\begin{align*}\n",
    "    \\begin{cases}\n",
    "    -\\Delta u - \\omega^2 u= 0 &\\text{ in } \\dom, \\\\\n",
    "    \\frac{\\partial u}{\\partial \\nx} + i u = g &\\text{ on } \\partial \\dom.\n",
    "    \\end{cases}\n",
    "\\end{align*}\n",
    "$$\n",
    "\n",
    "Standard *polynomial* Trefftz functions for the Helmholtz equation do not exist, to circumvent this problem, we weaken our condition in the Trefftz space. We introduce a projection $\\Pi$ that is yet to be defined and define the weak Trefftz space and the embedded weak Trefftz DG method:\n",
    "\n",
    "$$\n",
    "\\begin{align}\n",
    "    \\text{Find }u_{\\IT}\\in \\IT^p(\\Th)&,~\\text{ s.t. }\n",
    "    a_h(u_{\\IT},v_{\\IT})=\\ell(v_{\\IT})\\qquad \\forall v_{\\IT}\\in \\IT^p(\\Th)\\quad \\text{ with } \\\\\n",
    "    \\IT^p(\\Th)&=\\{v\\in V^k(\\mathcal T_h),\\ \\Pi \\calL v=0\\}. \\label{eq:weakTspace}\n",
    "    % \\\\ &\\IT^p(\\Th)=\\{v\\in L^2(\\dom) \\sst \\restr{v}{K}\\in\\IT(K),\\forall K\\in\\Th\\}\n",
    "\\end{align}\n",
    "$$\n",
    "\n",
    "For the Helmholtz problem we choose $\\Pi:V^{k}(\\mathcal T_h)\\rightarrow V^{k-2}(\\mathcal T_h)$ the $L^2$ orthogonal projection. This way, we can define the matrix $\\bW$ as \n",
    "\n",
    "$$\n",
    "\\begin{align} \\label{def:W3}\n",
    "    (\\bW)_{ij}&=\\inner{\\calL\\phi_j,\\tilde\\phi_i}_{0,h}. \n",
    "\\end{align}\n",
    "$$\n",
    "\n",
    "with test functions $\\tilde\\phi_i\\in V^{k-2}(\\mathcal T_h)$ and $\\calL=-\\Delta u -\\omega^2 u$."
   ]
  },
  {
   "cell_type": "code",
   "execution_count": null,
   "id": "4855289d",
   "metadata": {},
   "outputs": [],
   "source": [
    "def TrefftzHelmholtzEmb(fes):\n",
    "    mesh = fes.mesh\n",
    "    k = fes.globalorder\n",
    "    u = fes.TrialFunction()\n",
    "    \n",
    "    Lap = lambda u : sum(Trace(u.Operator('hesse')))\n",
    "    fes2 = L2(mesh, order=order-2, dgjumps=True,complex=True)\n",
    "    v = fes2.TestFunction()\n",
    "    op = -u*v*dx - Lap(u)*v*dx\n",
    "    PP = TrefftzEmbedding(op,fes,test_fes=fes2)\n",
    "    return PP"
   ]
  },
  {
   "cell_type": "code",
   "execution_count": null,
   "id": "263b8ff9",
   "metadata": {},
   "outputs": [],
   "source": [
    "def EmbeddedBasisFunctionsAsMultiDim(Emb, fes):\n",
    "    gfshow = GridFunction(fes, multidim=0)\n",
    "    gf = GridFunction(fes)\n",
    "    coefvec = Emb.CreateRowVector()\n",
    "    for i in range(Emb.width):\n",
    "        coefvec[:] = 0\n",
    "        coefvec[i] = 1\n",
    "        gf.vec.data = Emb * coefvec\n",
    "        gfshow.AddMultiDimComponent(gf.vec)\n",
    "    return gfshow\n",
    "\n",
    "order = 3\n",
    "mesh = Mesh(unit_square.GenerateMesh(maxh=1))\n",
    "fes = L2(mesh, order=order, dgjumps=True,complex=True)\n",
    "PP = TrefftzHelmholtzEmb(fes)\n",
    "gfshow = EmbeddedBasisFunctionsAsMultiDim(PP,fes)\n",
    "Draw (gfshow, mesh, interpolate_multidim=False, animate=False, autoscale=True, settings={\"subdivision\":20})"
   ]
  },
  {
   "cell_type": "markdown",
   "id": "7ef6c524",
   "metadata": {},
   "source": [
    "We compare this to the planewave space \n",
    "\n",
    "\n",
    "$$\n",
    "\\begin{align*}\n",
    "    \\IT^p=\\{e^{-i\\omega(d_j\\cdot \\bx)},\\ j=-p,\\dots,p\\}.\n",
    "\\end{align*}\n",
    "$$"
   ]
  },
  {
   "cell_type": "code",
   "execution_count": null,
   "id": "9964431c",
   "metadata": {},
   "outputs": [],
   "source": [
    "order = 3\n",
    "mesh = Mesh(unit_square.GenerateMesh(maxh=1))\n",
    "fes = trefftzfespace(mesh, order=order, eq=\"helmholtz\",dgjumps=True,complex=True)\n",
    "gfshow = GridFunction(fes, multidim=0)\n",
    "gf = GridFunction(fes)\n",
    "for i in range(fes.ndof):\n",
    "    gf.vec[:] = 0\n",
    "    gf.vec[i] = 1\n",
    "    gfshow.AddMultiDimComponent(gf.vec)\n",
    "Draw (gfshow, mesh, interpolate_multidim=False, animate=False, autoscale=False, min=0.8,max=1, settings={\"subdivision\":20})"
   ]
  },
  {
   "cell_type": "code",
   "execution_count": null,
   "id": "ad81be3d",
   "metadata": {},
   "outputs": [],
   "source": [
    "mesh = Mesh(unit_square.GenerateMesh(maxh=.3))\n",
    "order = 4\n",
    "fes = L2(mesh, order=order, complex=True, dgjumps=True)\n",
    "u,v = fes.TnT()"
   ]
  },
  {
   "cell_type": "code",
   "execution_count": null,
   "id": "67425dba",
   "metadata": {},
   "outputs": [],
   "source": [
    "omega=1\n",
    "n = specialcf.normal(2)\n",
    "exact = exp(1j*sqrt(0.5)*(x+y))\n",
    "gradexact = CoefficientFunction((sqrt(0.5)*1j*exact, sqrt(0.5)*1j*exact))\n",
    "bndc = gradexact*n + 1j*omega*exact\n",
    "eps = 10**-7"
   ]
  },
  {
   "cell_type": "markdown",
   "id": "6111befd",
   "metadata": {},
   "source": [
    "We consider the DG-scheme given by\n",
    "\n",
    "$$\n",
    "\\begin{align}\n",
    "        a_h(u,v) &= \\sum_{K\\in\\Th}\\int_K \\nabla u\\nabla v-\\omega^2 uv\\ dV\n",
    "        -\\int_{\\Fh^\\text{int}}\\left(\\avg{\\nabla u}\\jump{v}+\\jump{u} \\avg{\\overline{\\nabla v}} \\right) dS \\nonumber \\\\ \n",
    "                 &\\qquad+\\int_{\\Fh^\\text{int}} \\left( i\\alpha \\omega\\jump{u}\\jump{\\overline{v}} - \\frac{\\beta}{i\\omega}\\jump{\\nabla u}\\jump{\\overline{\\nabla v}} \\right) dS -\\int_{\\Fh^\\text{bnd}}\\delta\\left(\\nx\\cdot\\nabla u \\overline{v}+u \\overline{\\nx\\cdot\\nabla v}\\right) dS\\\\ \\nonumber\n",
    "                 &\\qquad+\\int_{\\Fh^\\text{bnd}} \\left( i(1-\\delta)\\omega{u}{\\overline{v}} - \\frac{\\delta}{i\\omega}{\\nabla u}{\\overline{\\nabla v}} \\right) dS \\\\ \n",
    "        \\ell(v) &= \\int_{\\Fh^\\text{bnd}}\\left( (1-\\delta)g\\overline{v} - \\frac{\\delta}{i\\omega}g\\overline{\\nx\\cdot\\nabla v}\\right) dS\n",
    "\\end{align}\n",
    "$$"
   ]
  },
  {
   "cell_type": "code",
   "execution_count": null,
   "id": "914f0661",
   "metadata": {},
   "outputs": [],
   "source": [
    "h = specialcf.mesh_size\n",
    "alpha = 1/(omega*h)\n",
    "beta = omega*h\n",
    "delta = omega*h\n",
    "\n",
    "jump_u = (u-u.Other())*n\n",
    "jump_v = (v-v.Other())*n\n",
    "jump_du = (grad(u)-grad(u.Other()))*n\n",
    "jump_dv = (grad(v)-grad(v.Other()))*n\n",
    "mean_u = 0.5 * ((u)+(u.Other()))\n",
    "mean_du = 0.5 * (grad(u)+grad(u.Other()))\n",
    "mean_dv = 0.5 * (grad(v)+grad(v.Other()))\n",
    "\n",
    "a = BilinearForm(fes)\n",
    "a += grad(u)*(grad(v))*dx - omega**2*u*(v)*dx\n",
    "\n",
    "a += -(jump_u*(mean_dv)+mean_du*(jump_v)) * dx(skeleton=True)\n",
    "a += -1/(omega*1j)*beta*(jump_du*(jump_dv)) * dx(skeleton=True)\n",
    "a += omega*1j*alpha*jump_u*(jump_v) * dx(skeleton=True)\n",
    "\n",
    "a += -delta*(u*(grad(v))*n+grad(u)*n*(v)) * ds(skeleton=True)\n",
    "a += -1/(omega*1j)*delta*(grad(u)*n)*((grad(v))*n) * ds(skeleton=True)\n",
    "a += omega*1j*(1-delta)*u*(v) * ds(skeleton=True)\n",
    "\n",
    "f = LinearForm(fes)\n",
    "f += -1/(omega*1j)*delta*bndc*(grad(v))*n*ds(skeleton=True)\n",
    "f += (1-delta)*bndc*(v)*ds(skeleton=True)\n",
    "\n",
    "with TaskManager():\n",
    "    a.Assemble()\n",
    "    f.Assemble()"
   ]
  },
  {
   "cell_type": "code",
   "execution_count": null,
   "id": "a84d0817",
   "metadata": {},
   "outputs": [],
   "source": [
    "PP = TrefftzHelmholtzEmb(fes)\n",
    "PPT = PP.CreateTranspose()\n",
    "with TaskManager():\n",
    "    TA = PPT@a.mat@PP\n",
    "    TU = TA.Inverse()*(PPT*f.vec)\n",
    "    tpgfu = GridFunction(fes)\n",
    "    tpgfu.vec.data = PP*TU\n",
    "error = sqrt(Integrate((tpgfu-exact)*Conj(tpgfu-exact), mesh).real)\n",
    "print(\"error \",error)"
   ]
  }
 ],
 "metadata": {
  "kernelspec": {
   "display_name": "Python 3 (ipykernel)",
   "language": "python",
   "name": "python3"
  },
  "language_info": {
   "codemirror_mode": {
    "name": "ipython",
    "version": 3
   },
   "file_extension": ".py",
   "mimetype": "text/x-python",
   "name": "python",
   "nbconvert_exporter": "python",
   "pygments_lexer": "ipython3",
   "version": "3.11.3"
  }
 },
 "nbformat": 4,
 "nbformat_minor": 5
}
